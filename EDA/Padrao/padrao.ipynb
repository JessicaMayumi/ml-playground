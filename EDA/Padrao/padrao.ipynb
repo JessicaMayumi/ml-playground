{
 "cells": [
  {
   "cell_type": "code",
   "execution_count": 2,
   "id": "ebb08921",
   "metadata": {},
   "outputs": [],
   "source": [
    "import pandas as pd\n",
    "import numpy as np\n",
    "\n",
    "import matplotlib.pyplot as plt\n",
    "import seaborn as sns\n",
    "\n",
    "from tkinter import filedialog\n",
    "from tkinter import Tk"
   ]
  },
  {
   "cell_type": "markdown",
   "id": "f6420c51",
   "metadata": {},
   "source": [
    "---\n",
    "# **Importando uma base de dados**"
   ]
  },
  {
   "cell_type": "code",
   "execution_count": null,
   "id": "d724792d",
   "metadata": {},
   "outputs": [],
   "source": [
    "# Seleciona um arquivo\n",
    "root = Tk()\n",
    "root.withdraw()\n",
    "file_path = filedialog.askopenfilename(title=\"Escolha um arquivo CSV\", filetypes=((\"CSV files\", \"*.csv\"), (\"All files\", \"*.*\"))) #Tipo de arquivo\n",
    "\n",
    "if file_path:\n",
    "    df = pd.read_csv(file_path, sep=',') #Sempre verificar o separador\n",
    "    print(f\"Arquivo '{file_path}' carregado com sucesso!\")\n",
    "else:\n",
    "    print(\"Nenhum arquivo selecionado.\")"
   ]
  },
  {
   "cell_type": "markdown",
   "id": "b4328281",
   "metadata": {},
   "source": [
    "---\n",
    "# **Visualizando os Dados**"
   ]
  },
  {
   "cell_type": "code",
   "execution_count": null,
   "id": "fcb67c22",
   "metadata": {},
   "outputs": [],
   "source": [
    "df.head()"
   ]
  },
  {
   "cell_type": "code",
   "execution_count": null,
   "id": "b585e117",
   "metadata": {},
   "outputs": [],
   "source": [
    "df.info()"
   ]
  },
  {
   "cell_type": "code",
   "execution_count": null,
   "id": "04fec74e",
   "metadata": {},
   "outputs": [],
   "source": [
    "df.tail()"
   ]
  },
  {
   "cell_type": "code",
   "execution_count": null,
   "id": "0a4c5b31",
   "metadata": {},
   "outputs": [],
   "source": [
    "linhas, colunas = df.shape\n",
    "print(f\"Linhas: {linhas:,}\\nColunas:{colunas:,}\")"
   ]
  },
  {
   "cell_type": "markdown",
   "id": "1ee218ed",
   "metadata": {},
   "source": [
    "---\n",
    "# **Data Preparation**\n",
    "\n",
    "- Alterar nomes de colunas\n",
    "- Verificar se os tipos de cada variável estão corretos"
   ]
  },
  {
   "cell_type": "markdown",
   "id": "6962dede",
   "metadata": {},
   "source": [
    "---\n",
    "# **EDA**"
   ]
  },
  {
   "cell_type": "markdown",
   "id": "3096f9f9",
   "metadata": {},
   "source": [
    "**1. Verificando os tipos de dados**"
   ]
  },
  {
   "cell_type": "code",
   "execution_count": null,
   "id": "7791f614",
   "metadata": {},
   "outputs": [],
   "source": [
    "contagem_tipos = df.dtypes.value_counts().to_dict()\n",
    "resumo = \", \".join([f\"{contagem} colunas do tipo {tipo}\" for tipo, contagem in contagem_tipos.items()])\n",
    "print(resumo)"
   ]
  },
  {
   "cell_type": "code",
   "execution_count": null,
   "id": "feb1998b",
   "metadata": {},
   "outputs": [],
   "source": [
    "print(\"Mais detalhes sobre as colunas:\\n\")\n",
    "\n",
    "informacoes_colunas = pd.DataFrame({\n",
    "    'Tipo de Dado': df.dtypes,\n",
    "    'Contagem nao nulos': df.count(),\n",
    "    'Contagem nulos': df.isnull().sum(),\n",
    "    'Porcentagem nulos': (df.isnull().sum() / len(df) * 100).round(2),\n",
    "    'Valores unicos': df.nunique(),\n",
    "    'Porcentagem cardinalidade' : (df.nunique() / len(df) *100).round(2)\n",
    "})\n",
    "\n",
    "print(informacoes_colunas)\n"
   ]
  },
  {
   "cell_type": "code",
   "execution_count": 17,
   "id": "5c37e2d1",
   "metadata": {},
   "outputs": [],
   "source": [
    "porcentagem_nulos_alta = informacoes_colunas[informacoes_colunas['Porcentagem nulos'] > 25].index.tolist() # Porcentagem de valores Nulos\n",
    "if porcentagem_nulos_alta:\n",
    "    print(f\"Colunas com altas taxas de valores nulos: {', '.join(porcentagem_nulos_alta)}\")"
   ]
  },
  {
   "cell_type": "code",
   "execution_count": 12,
   "id": "88af8855",
   "metadata": {},
   "outputs": [],
   "source": [
    "valor_unico = informacoes_colunas[informacoes_colunas['Valores unicos'] == 1].index.tolist()\n",
    "if valor_unico:\n",
    "    print(f\"Colunas com um único valor: {', '.join(valor_unico)}\")"
   ]
  },
  {
   "cell_type": "code",
   "execution_count": null,
   "id": "1eb20b63",
   "metadata": {},
   "outputs": [],
   "source": [
    "porcentagem_cardinalidade_alta = informacoes_colunas[informacoes_colunas['Porcentagem cardinalidade'] > 90].index.tolist()\n",
    "if porcentagem_cardinalidade_alta:\n",
    "    print(f\"Colunas com altas taxas de cardinalidade: {', '.join(porcentagem_cardinalidade_alta)}\")"
   ]
  },
  {
   "cell_type": "markdown",
   "id": "57b52daf",
   "metadata": {},
   "source": [
    "---\n",
    "**2. Analizando os valores nulos**"
   ]
  },
  {
   "cell_type": "code",
   "execution_count": null,
   "id": "b190a0ff",
   "metadata": {},
   "outputs": [],
   "source": [
    "total_celulas = np.prod(df.shape)\n",
    "total_nulos = df.isnull().sum().sum()\n",
    "porcentagem_nulos = (total_nulos/total_celulas) * 100\n",
    "\n",
    "print(f\"Visão geral: {total_nulos} valores nulos de {total_celulas} células, sendo {porcentagem_nulos:.2f}% do total.\")"
   ]
  },
  {
   "cell_type": "code",
   "execution_count": null,
   "id": "67cd6746",
   "metadata": {},
   "outputs": [],
   "source": [
    "if total_nulos > 0:\n",
    "    #plotar um gráfico de nulos\n",
    "    plt.figure(figsize=(12,6))\n",
    "    ax = sns.heatmap(df.isnull(), cbar = False, cmap = \"viridis\", yticklabels = False)\n",
    "    plt.title(\"Mapa de Valores nulos\")\n",
    "    plt.tight_layout()\n",
    "    plt.show()\n",
    "\n",
    "    colunas_nulos = df.columns[df.isnull().any()].tolist()\n",
    "    print(f\"Colunas com dados nulos: {', '.join(colunas_nulos)}\")\n",
    "\n",
    "    dados_nulos = pd.DataFrame({\n",
    "        'Contagem de nulos': df.isnull().sum(),\n",
    "        'Porcentagem de nulos': (df.isnull().sum() / len(df) * 100).round(2)\n",
    "    }).sort_values('Porcentagem de nulos', ascending=False)\n",
    "\n",
    "    dados_nulos = dados_nulos[dados_nulos['Contagem de nulos'] > 0]\n",
    "\n",
    "    plt.figure(figsize = (12,6))\n",
    "    ax = dados_nulos['Porcentagem de nulos'].plot(kind='bar')\n",
    "    plt.title('Porcentagem de valores nulos por Coluna')\n",
    "    plt.xlabel('Colunas')\n",
    "    plt.ylabel('Porcentagem de nulos')\n",
    "    plt.xticks(rotation=90)\n",
    "    plt.tight_layout()\n",
    "    plt.show()\n",
    "    display(dados_nulos)\n",
    "\n",
    "else:\n",
    "    print(f\"Não foram encontrados valores nulos!\")"
   ]
  },
  {
   "cell_type": "markdown",
   "id": "e9d7a8bc",
   "metadata": {},
   "source": [
    "---\n",
    "**3. Verificando se existe registros duplicados**"
   ]
  },
  {
   "cell_type": "code",
   "execution_count": null,
   "id": "7445e9f7",
   "metadata": {},
   "outputs": [],
   "source": [
    "contagem_duplicados =  df.duplicated().sum()\n",
    "\n",
    "if contagem_duplicados > 0:\n",
    "    porcentagem_duplicados = (contagem_duplicados / len(df)) * 100\n",
    "    print(f\"Foi encontrado {contagem_duplicados} registros duplicados, o que corresponde a {porcentagem_duplicados:.2f} do total de registros\")\n",
    "else: \n",
    "    print(\"Não foi encontrado registros duplicados no dataset.\")"
   ]
  },
  {
   "cell_type": "markdown",
   "id": "aa927c16",
   "metadata": {},
   "source": [
    "---\n",
    "**4. Inferindo tipos de dados**"
   ]
  },
  {
   "cell_type": "code",
   "execution_count": null,
   "id": "9e8d655c",
   "metadata": {},
   "outputs": [],
   "source": [
    "def inferir_tipos_colunas(df):\n",
    "    col_numericas = []\n",
    "    col_categorias = []\n",
    "    col_datetime = []\n",
    "    col_text = []\n",
    "    col_id = []\n",
    "\n",
    "    for col in df.columns:\n",
    "        if pd.api.types.is_datetime64_any_dtype(df[col]):\n",
    "            col_datetime.append(col)\n",
    "        elif pd.api.types.is_numeric_dtype(df[col]):\n",
    "            if(\"id\" in col.lower() or col.lower().endswith(\"_id\") and df[col].nunique() > 0.8 *len(df)):\n",
    "                col_id.append(col)\n",
    "            else: \n",
    "                col_numericas.append(col)\n",
    "        elif pd.api.types.is_object_dtype(df[col]):\n",
    "            amostra = df[col].dropna().sample(min(10, len(df[col].dropna()))).astype(str)\n",
    "            avg_len = amostra.str.len().mean()\n",
    "            max_len = amostra.str.len().max()\n",
    "            unique_ratio = df[col].nunique() / len(df[col].dropna())\n",
    "            if ('id' in col.lower() or col.lower().endswith('_id')) and unique_ratio > 0.8:\n",
    "                    col_id.append(col)\n",
    "            elif avg_len > 50 or (max_len > 100 and unique_ratio > 0.9):\n",
    "                col_text.append(col)\n",
    "            else:\n",
    "                col_categorias.append(col)\n",
    "\n",
    "    return {\n",
    "        'numerica': col_numericas,\n",
    "        'categorica': col_categorias,\n",
    "        'datetime': col_datetime,\n",
    "        'textual': col_text,\n",
    "        'id': col_id\n",
    "    }\n",
    "\n",
    "tipos_colunas = inferir_tipos_colunas(df)\n",
    "for tipo, cols in tipos_colunas.items():\n",
    "    if cols:\n",
    "        print(f\"Coluna {tipo.capitalize()} ({len(cols)}): {', '.join(cols)}\")"
   ]
  },
  {
   "cell_type": "markdown",
   "id": "e2b3c2fb",
   "metadata": {},
   "source": [
    "---\n",
    "**5. Verificando inconsistências ou possíveis problemas**"
   ]
  },
  {
   "cell_type": "code",
   "execution_count": null,
   "id": "a2bc8bb6",
   "metadata": {},
   "outputs": [],
   "source": [
    "def verificar_consistencia_dados(df):\n",
    "    problemas = []\n",
    "\n",
    "    for col in tipos_colunas['numerica']:\n",
    "        if df[col].dtype in [np.int64, np.int32, np.float64, np.float32]:\n",
    "            if df[col].isnull().sum() > 0.5 * len(df):\n",
    "                continue\n",
    "            # verifica outliers usando o método IQR\n",
    "            Q1 = df[col].quantile(0.25)\n",
    "            Q3 = df[col].quantile(0.75)\n",
    "            IQR = Q3 - Q1\n",
    "            limite_inferior = Q1 - 1.5 * IQR\n",
    "            limite_superior = Q3 + 1.5 * IQR\n",
    "\n",
    "            outliers = df[(df[col] < limite_inferior) | (df[col] > limite_superior)]\n",
    "            porcentagem_outliers = len(outliers) / len(df) * 100\n",
    "        \n",
    "            if porcentagem_outliers > 5:\n",
    "                problemas.append(f\"Coluna '{col}' tem {porcentagem_outliers:.2f}% de possíveis outliers\\nLimite: {limite_inferior:.2f} a {limite_superior:.2f}\" )\n",
    "\n",
    "            indicadores_quantidade = ['qtd', 'quantidade', 'preco', 'ano', 'peso', 'altura'] #alguns indicadores\n",
    "            if any(indicador in col.lower() for indicador in indicadores_quantidade):\n",
    "                valores_negativos = (df[col] < 0).sum()\n",
    "                if valores_negativos > 0:\n",
    "                    problemas.append(f\"Coluna '{col}' contém {valores_negativos} valores negativos\")\n",
    "    \n",
    "    for col in tipos_colunas['categorica']:\n",
    "        if df[col].isnull().sum() > 0.5 * len(df):\n",
    "            continue\n",
    "            \n",
    "        if df[col].nunique() > 1:\n",
    "            qtd_valores = df[col].value_counts()\n",
    "            valores_raros = qtd_valores[qtd_valores < len(df) * 0.01]\n",
    "            if len(valores_raros) > 0 and len(valores_raros) < 0.5 * df[col].nunique():\n",
    "                problemas.append(f\"A coluna '{col}' tem {len(valores_raros)} categoria(s) raras (cada uma com menos de 1% dos dados), que talvez precisem ser agrupadas.\")\n",
    "\n",
    "        if df[col].dtype == object:\n",
    "            valores = df[col].dropna().astype(str)\n",
    "            valores_baixos = valores.str.lower()\n",
    "            casos_duplicados = valores_baixos.value_counts()[valores_baixos.value_counts() > 1].index\n",
    "            if len(casos_duplicados) > 0:\n",
    "                problemas_amostra = []\n",
    "                for valor in casos_duplicados[:3]:\n",
    "                    variacoes = valores[valores_baixos == valor].unique()\n",
    "                    if len(variacoes) > 1:\n",
    "                        problemas_amostra.append(f\"'{variacoes[0]}' x '{variacoes[1]}'\")\n",
    "                if problemas_amostra:\n",
    "                    problemas.append(f\"A coluna '{col}' possui inconsistências, como: {', '.join(problemas_amostra)}\")\n",
    "\n",
    "    for col in tipos_colunas['datetime']:\n",
    "        if pd.Timestamp.now() < df[col].max():\n",
    "            futuro = (df[col] > pd.Timestamp.now()).sum()\n",
    "            if futuro > 0:\n",
    "                problemas.append(f\"A coluna '{col}' contém {futuro} datas no futuro, isso pode indicar erros nas datas.\")\n",
    "\n",
    "    return problemas\n",
    "\n",
    "problemas = verificar_consistencia_dados(df)\n",
    "\n",
    "if problemas:\n",
    "    print(\"Existem potenciais PROBLEMAS!\\n\")\n",
    "    for i, problema in enumerate(problemas, 1):\n",
    "        print(f\"{i}. {problema}\\n\")\n",
    "else: \n",
    "    print(\"Não foram identificados possíveis problemas\")"
   ]
  },
  {
   "cell_type": "markdown",
   "id": "816c507a",
   "metadata": {},
   "source": [
    "---\n",
    "**6. Variaveis Numéricas**"
   ]
  },
  {
   "cell_type": "code",
   "execution_count": null,
   "id": "bda6dd18",
   "metadata": {},
   "outputs": [],
   "source": [
    "if tipos_colunas['numerica']:\n",
    "    estatisticas = df[tipos_colunas['numerica']].describe().T\n",
    "    estatisticas['range'] = estatisticas['max'] - estatisticas['min']\n",
    "    estatisticas['coeficiente_variacao'] = (estatisticas['std']/estatisticas['mean'] *100).round(2)\n",
    "    estatisticas = estatisticas.sort_values('coeficiente_variacao', ascending = False)\n",
    "\n",
    "    print(\"Resumo estatístico das colunas Numéricas\")\n",
    "    display(estatisticas)"
   ]
  },
  {
   "cell_type": "markdown",
   "id": "815aac2b",
   "metadata": {},
   "source": [
    "- Identificando variáveis com altas variações"
   ]
  },
  {
   "cell_type": "code",
   "execution_count": null,
   "id": "ad610e6e",
   "metadata": {},
   "outputs": [],
   "source": [
    "if len(estatisticas) > 0:\n",
    "    colunas_alta_variacao = estatisticas.nlargest(min(3, len(estatisticas)), 'coeficiente_variacao').index.tolist()\n",
    "    print(f\"Colunas Numericas com variações altas:  {', '.join(colunas_alta_variacao)}\")"
   ]
  },
  {
   "cell_type": "markdown",
   "id": "b0ee36ec",
   "metadata": {},
   "source": [
    "- Plotando essas Variações"
   ]
  },
  {
   "cell_type": "code",
   "execution_count": null,
   "id": "77238bfd",
   "metadata": {},
   "outputs": [],
   "source": [
    "colunas_numericas = min(len(tipos_colunas['numerica']), 16)\n",
    "\n",
    "if colunas_numericas > 0:\n",
    "    colunas_plot = tipos_colunas['numerica'][:colunas_numericas]\n",
    "    n_colunas = min(3, colunas_numericas)\n",
    "    n_linhas = (colunas_numericas + n_colunas -1)//n_colunas\n",
    "\n",
    "    fig, axes = plt.subplots(n_linhas, n_colunas, figsize = (15, 3*n_linhas))\n",
    "    if n_linhas == 1 and n_colunas == 1:\n",
    "        axes = np.array([axes]) \n",
    "        axes = axes.flatten()\n",
    "\n",
    "    for i, col in enumerate(colunas_plot):\n",
    "        if df[col].isnull().sum() > 0.5 * len(df):\n",
    "            continue\n",
    "        ax = axes[i]\n",
    "        sns.histplot(df[col].dropna(), kde=True, ax=ax)\n",
    "        ax.set_title(f\"Distribuicao de {col}\")\n",
    "        ax.set_xlabel(col)\n",
    "        ax.tick_params(axis='x', rotation=45)\n",
    "\n",
    "    for j in range(i+1, len(axes)):\n",
    "            axes[j].set_visible(False)   \n",
    "\n",
    "    plt.tight_layout()\n",
    "    plt.show() \n",
    "\n",
    "    #identificar outliers\n",
    "\n",
    "    fig, axes = plt.subplots(n_linhas, n_colunas, figsize=(15, 3*n_linhas))\n",
    "    if n_linhas == 1 and n_colunas == 1:\n",
    "        axes = np.array([axes])\n",
    "    axes = axes.flatten()\n",
    "\n",
    "    for i, col in enumerate(colunas_plot):\n",
    "        if df[col].isnull().sum() > 0.5 * len(df):\n",
    "            continue\n",
    "        ax = axes[i]\n",
    "        sns.boxplot(x=df[col].dropna(), ax=ax)\n",
    "        ax.set_title(f'Boxplot de {col}')\n",
    "        ax.set_xlabel(col)\n",
    "\n",
    "    for j in range(i+1, len(axes)):\n",
    "            axes[j].set_visible(False)\n",
    "\n",
    "    plt.tight_layout()\n",
    "    plt.show()       \n",
    "\n",
    "else: \n",
    "     print(\"Não foi identificado variaveis numéricas no dataset!\")"
   ]
  },
  {
   "cell_type": "markdown",
   "id": "07e1d241",
   "metadata": {},
   "source": [
    "---\n",
    "**7. Variáveis Categóricas**"
   ]
  },
  {
   "cell_type": "code",
   "execution_count": null,
   "id": "395ba98c",
   "metadata": {},
   "outputs": [],
   "source": [
    "if tipos_colunas['categorica']:\n",
    "    for col in tipos_colunas['categorica'][:min(10, len(tipos_colunas['categorica']))]:\n",
    "        if df[col].nunique() > 50 or df[col].isnull().sum() > 0.5 * len(df):  # categorias demais ou mais de 50% nulos\n",
    "            print(f\"A coluna '{col}' possui muitas categorias ou valores nulos para uma análise.\\n\")\n",
    "            continue\n",
    "\n",
    "        c_vezes = df[col].value_counts().head(10)\n",
    "        c_porcentagem = (c_vezes / len(df) * 100).round(2)\n",
    "        print(f\"Top valores da coluna '{col}' (entre {df[col].nunique()} valores diferentes)\")\n",
    "\n",
    "        c_resumo = pd.DataFrame({\n",
    "            'Frequência': c_vezes,\n",
    "            'Porcentagem': c_porcentagem\n",
    "        })\n",
    "        display(c_resumo)\n",
    "\n",
    "        plt.figure(figsize=(10, 5))\n",
    "        sns.barplot(x=c_vezes.index, y=c_vezes.values)\n",
    "        plt.title(f'Distribuição de {col}')\n",
    "        plt.xlabel(col)\n",
    "        plt.ylabel('Frequência')\n",
    "        plt.xticks(rotation=45, ha='right')\n",
    "        plt.tight_layout()\n",
    "        plt.show()\n",
    "\n",
    "else:\n",
    "    print(\"Não foram identificadas variáveis categóricas no dataset.\")\n"
   ]
  },
  {
   "cell_type": "markdown",
   "id": "f3f5fcfa",
   "metadata": {},
   "source": [
    "---\n",
    "**8. Datetime**"
   ]
  },
  {
   "cell_type": "code",
   "execution_count": null,
   "id": "68971fbb",
   "metadata": {},
   "outputs": [],
   "source": [
    "if tipos_colunas['datetime']:\n",
    "    for col in tipos_colunas['datetime']:\n",
    "        if df[col].isnull().sum()>0.5 *len(df):\n",
    "            print(f\"A coluna {col} possui muitos valores nulos para uma análise.\")\n",
    "            continue\n",
    "\n",
    "        min_data = df[col].min()\n",
    "        max_data = df[col].max()\n",
    "        periodo = (max_data-min_data).days\n",
    "\n",
    "        print(f\"'{col}' vai de {min_data} até {max_data} ({periodo} dias)\")\n",
    "\n",
    "        plt.figure(figsize=(15,10))\n",
    "\n",
    "        #Subplot da distribuicao por data\n",
    "        plt.subplot(2,2,1)\n",
    "        df[col].dt.date.value_count().sort_index().plot()\n",
    "        plt.title(f\"Distribuição ao longo do tempo\")\n",
    "        plt.xlabel(\"Data\")\n",
    "        plt.ylabel('Frequência')\n",
    "\n",
    "        #Subplot da distribuicao por mes\n",
    "        plt.subplot(2,2,2)\n",
    "        freq_mes = df[col].dt.month.value_counts().sort_index()\n",
    "        meses = {1: 'Jan', 2: 'Feb', 3: 'Mar', 4: 'Abr', 5: 'Mai', 6: 'Jun', 7: 'Jul', 8: 'Aug', 9: 'Set', 10: 'Out', 11: 'Nov', 12: 'Dez'}\n",
    "        freq_mes.index = freq_mes.index.map(meses)\n",
    "        freq_mes.plot(kind='bar')\n",
    "        plt.title(\"Distribuição por Mês\")\n",
    "        plt.xlabel(\"Mês\")\n",
    "        plt.ylabel(\"Frequência\")\n",
    "\n",
    "        #Subplot de Distribuição por dias da Semana\n",
    "        plt.subplot(2,2,3)\n",
    "        freq_dias_semana = df[col].dt.dayofweek.value_counts().sort_index()\n",
    "        dias = {0: 'Seg', 1: 'Ter', 2: 'Qua', 3: 'Qui', 4: 'Sex', 5: 'Sáb', 6: 'Dom'}\n",
    "        freq_dias_semana.index = freq_dias_semana.index.map(dias)\n",
    "        freq_dias_semana.plot(kind='bar')\n",
    "        plt.title(\"Distribuição por Dia da Semana\")\n",
    "        plt.xlabel(\"Dia da Semana\")\n",
    "        plt.ylabel('Frequência')\n",
    "\n",
    "        #Subplot de distribuição por hora caso tenha horário\n",
    "        plt.subplot(2, 2, 4)\n",
    "        if (df[col].dt.hour != 0).any():\n",
    "            df[col].dt.hour.value_counts().sort_index().plot(kind='bar')\n",
    "            plt.title('Distribuição por Hora do Dia')\n",
    "            plt.xlabel('Hora')\n",
    "            plt.ylabel('Frequência')\n",
    "        else:\n",
    "            plt.text(0.5,0.5, \"Não foi encontrado o horário na coluna!\", horizontalalignment='center', verticalalignment='center')\n",
    "            plt.axis('off')\n",
    "\n",
    "        plt.tight_layout()\n",
    "        plt.show()\n",
    "    \n",
    "else:\n",
    "    print(\"Não foram encontradas variáveis Datetime no dataset\")\n",
    "\n"
   ]
  },
  {
   "cell_type": "markdown",
   "id": "4933e86d",
   "metadata": {},
   "source": [
    "---\n",
    "**9. Relações entre variáveis numéricas**"
   ]
  },
  {
   "cell_type": "code",
   "execution_count": null,
   "id": "a47a75d3",
   "metadata": {},
   "outputs": [],
   "source": [
    "if len(tipos_colunas['numerica']) > 1:\n",
    "    correlacao = df[tipos_colunas['numerica']].corr()\n",
    "\n",
    "    #Heatmap\n",
    "    plt.figure(figsize=(12,10))\n",
    "    mask = np.triu(np.ones_like(correlacao, dtype=bool), k=1)\n",
    "    cmap = sns.diverging_palette(230, 20, as_cmap=True)  \n",
    "    sns.heatmap(correlacao, mask=mask, cmap=cmap, vmax=1, vmin=-1, center=0, annot=True, fmt=\".2f\", square=True, linewidths=.5)  \n",
    "    plt.title('Correlação entre Variáveis Numéricas')  \n",
    "    plt.tight_layout() \n",
    "    plt.show()\n",
    "\n",
    "    correlacoes_fortes = []\n",
    "    for i in range(len(correlacao.columns)):\n",
    "        for j in range(i + 1, len(correlacao.columns)):\n",
    "            valor_corr = correlacao.iloc[i, j]\n",
    "            if abs(valor_corr) > 0.7:  # Limite para correlação forte\n",
    "                coluna1 = correlacao.columns[i]\n",
    "                coluna2 = correlacao.columns[j]\n",
    "                correlacoes_fortes.append((coluna1, coluna2, valor_corr))\n",
    "\n",
    "    for col1, col2, corr in correlacoes_fortes:\n",
    "        print(f\"As colunas '{col1}' e '{coluna2}' tem correlação de {corr:.2f}\")\n",
    "\n",
    "    if correlacoes_fortes:\n",
    "        print(\"Pares fortemente correlacionados de variáveis numéricas (correlação > 0.7):\\n\")\n",
    "        for coluna1, coluna2, valor_corr in sorted(correlacoes_fortes, key=lambda x: abs(x[2]), reverse=True):\n",
    "            print(f\"{coluna1} e {coluna2}: {valor_corr:.3f}\")\n",
    "            plt.figure(figsize=(8, 6))\n",
    "            sns.scatterplot(x=df[coluna1], y=df[coluna2], alpha=0.6)\n",
    "            plt.title(f'Gráfico de Dispersão: {coluna1} x {coluna2} (Correlação: {valor_corr:.3f})')\n",
    "            plt.xlabel(coluna1)\n",
    "            plt.ylabel(coluna2)\n",
    "            plt.tight_layout()\n",
    "            plt.show()\n",
    "    else:\n",
    "        print(\"Nenhuma correlação forte (correlação > 0.7) encontrada entre variáveis numéricas.\")\n",
    "\n",
    "else:\n",
    "    print(\"Não foram encontradas variáveis numéricas suficiente para análise, precisa de pelo menos 2 variáveis numéricas\")"
   ]
  },
  {
   "cell_type": "markdown",
   "id": "d427f1d0",
   "metadata": {},
   "source": [
    "---\n",
    "**10. Relações entre variáveis categoricas e numéricas**"
   ]
  },
  {
   "cell_type": "code",
   "execution_count": 52,
   "id": "be74ab48",
   "metadata": {},
   "outputs": [],
   "source": [
    "from scipy import stats #para o teste ANOVA"
   ]
  },
  {
   "cell_type": "code",
   "execution_count": null,
   "id": "a2920c62",
   "metadata": {},
   "outputs": [],
   "source": [
    "if tipos_colunas['categorica'] and tipos_colunas['numerica']:\n",
    "    cat_cols = tipos_colunas['categorica']\n",
    "    num_cols = tipos_colunas['numerica']\n",
    "\n",
    "    for cat_col in cat_cols:\n",
    "        if df[cat_col].nunique() > 10 or df[cat_col].isnull().sum() > 0.5 * len(df):\n",
    "            print(f\"Pulando '{cat_col}'\")\n",
    "            continue\n",
    "        for num_col in num_cols:\n",
    "            if df[num_col].isnull().sum() > 0.5 * len(df):\n",
    "                print(f\"Pulando '{num_col}'\")\n",
    "                continue\n",
    "\n",
    "            print(f\"\\nAnalisando '{cat_col}' × '{num_col}':\\n\")\n",
    "            #Box plot para visualizar a distribuicao por categoria\n",
    "            plt.figure(figsize=(12,6))\n",
    "\n",
    "            plt.subplot(1,2,1)\n",
    "            sns.boxplot(x=cat_col, y=num_col, data=df)\n",
    "            plt.title(f\"Distribuição de '{num_col}' por '{cat_col}'\")\n",
    "            plt.xlabel(cat_col)\n",
    "            plt.ylabel(num_col)\n",
    "            plt.xticks(rotation=45, ha='right')\n",
    "\n",
    "            plt.subplot(1, 2, 2)\n",
    "            medias = df.groupby(cat_col)[num_col].mean().sort_values(ascending=False)\n",
    "            sns.barplot(x=medias.index, y=medias.values)\n",
    "            plt.title(f\"Média de '{num_col}' por '{cat_col}'\")\n",
    "            plt.xlabel(cat_col)\n",
    "            plt.ylabel(f\"Média de {num_col}\")\n",
    "            plt.xticks(rotation=45, ha='right')\n",
    "\n",
    "            plt.tight_layout()\n",
    "            plt.show()\n",
    "\n",
    "            #teste ANOVA\n",
    "            try:\n",
    "                # Obtém categorias válidas na coluna categórica, removendo valores ausentes\n",
    "                categorias = df[cat_col].dropna().unique()\n",
    "                if len(categorias) > 1:  # Precisa de pelo menos 2 categorias para ANOVA\n",
    "                    # Agrupa os valores numéricos por categoria e remove grupos vazios\n",
    "                    grupos = [df[df[cat_col] == cat][num_col].dropna() for cat in categorias]\n",
    "                    grupos = [grupo for grupo in grupos if len(grupo) > 0]\n",
    "                    \n",
    "                    if len(grupos) > 1:  # Precisa de pelo menos 2 grupos não vazios\n",
    "                        estatistica_f, p_valor = stats.f_oneway(*grupos)\n",
    "                        if p_valor < 0.05:\n",
    "                            print(f\"✅ Relação significativa: a média de '{num_col}' varia significativamente entre as categorias de '{cat_col}' (p-valor: {p_valor:.5f}).\")\n",
    "                        else:\n",
    "                            print(f\"❌ Nenhuma relação significativa: a média de '{num_col}' não varia significativamente entre as categorias de '{cat_col}' (p-valor: {p_valor:.5f}).\")\n",
    "            except Exception as e:\n",
    "                print(f\"Não foi possível realizar o teste estatístico: {str(e)}\")\n",
    "\n",
    "else:\n",
    "    print(\"É necessário ter variáveis categóricas e numéricas para esta análise\")"
   ]
  },
  {
   "cell_type": "markdown",
   "id": "d29364f1",
   "metadata": {},
   "source": [
    "---\n",
    "**11. Vizualizando pares de features**"
   ]
  },
  {
   "cell_type": "code",
   "execution_count": null,
   "id": "e50a0625",
   "metadata": {},
   "outputs": [],
   "source": [
    "if len(tipos_colunas['numerica']) >1:\n",
    "    colunas_num = tipos_colunas['numerica'][::min(4, len(tipos_colunas['numerica']))]\n",
    "    if tipos_colunas['categorica']:\n",
    "        for cat_col in tipos_colunas['categorica']:\n",
    "            if 2 <= df[cat_col].nunique() <= 5:\n",
    "                hue_col = cat_col\n",
    "                break\n",
    "        else:\n",
    "            hue_col = None\n",
    "    else:\n",
    "        hue_col = None\n",
    "\n",
    "    print(\"Pair Plot de Features Numéricas Selecionadas:\")\n",
    "    tamanho_amostra = min(5000, len(df))\n",
    "    sample_df = df.sample(tamanho_amostra) if len(df) > tamanho_amostra else df\n",
    "\n",
    "    plt.figure(figsize=(12, 10))\n",
    "    plot_df = sample_df[colunas_num].copy()\n",
    "\n",
    "    if hue_col:\n",
    "        plot_df[hue_col] = sample_df[hue_col]\n",
    "        g = sns.pairplot(plot_df, hue=hue_col, corner=True, diag_kind=\"kde\", plot_kws={\"alpha\": 0.6}, palette=\"pastel\")\n",
    "        g.fig.set_size_inches(6, 5)\n",
    "        g.fig.suptitle(f'Pair Plot colorido por {hue_col}', y=1.02)\n",
    "    else:\n",
    "        g = sns.pairplot(plot_df,corner=True,diag_kind=\"kde\",plot_kws={\"alpha\": 0.6}, palette=\"pastel\")\n",
    "        g.fig.set_size_inches(6, 5)\n",
    "        g.fig.suptitle('Pair Plot de Features Numéricas Selecionadas', y=1.02)\n",
    "    \n",
    "    plt.tight_layout()\n",
    "    plt.show()\n",
    "\n",
    "    print(\"Insights do Pair Plot:\\n- A diagonal mostra a distribuição de cada variável\\n- Os gráficos fora da diagonal mostram as relações entre pares de variáveis\\n- Observe padrões, clusters ou tendências nos scatter plots\")\n",
    "\n",
    "else:\n",
    "    print(\"Variáveis numéricas insuficientes para análise de pair plot (é preciso pelo menos 2).\")"
   ]
  },
  {
   "cell_type": "markdown",
   "id": "cbcbe6f6",
   "metadata": {},
   "source": [
    "---\n",
    "**12. Pandas Profiling Report**"
   ]
  },
  {
   "cell_type": "code",
   "execution_count": null,
   "id": "1dc17ab2",
   "metadata": {},
   "outputs": [],
   "source": [
    "from ydata_profiling import ProfileReport"
   ]
  },
  {
   "cell_type": "code",
   "execution_count": null,
   "id": "7d2ad6fd",
   "metadata": {},
   "outputs": [],
   "source": [
    "profile = ProfileReport(df, title='Relatório Pandas Profiling', explorative=True)\n",
    "profile.to_notebook_iframe()"
   ]
  },
  {
   "cell_type": "code",
   "execution_count": null,
   "id": "796d9f87",
   "metadata": {},
   "outputs": [],
   "source": [
    "print(\"\\n\\nArquivo HTML\")\n",
    "profile.to_file(\"relatorio.html\")"
   ]
  }
 ],
 "metadata": {
  "kernelspec": {
   "display_name": "venv",
   "language": "python",
   "name": "python3"
  },
  "language_info": {
   "codemirror_mode": {
    "name": "ipython",
    "version": 3
   },
   "file_extension": ".py",
   "mimetype": "text/x-python",
   "name": "python",
   "nbconvert_exporter": "python",
   "pygments_lexer": "ipython3",
   "version": "3.11.9"
  }
 },
 "nbformat": 4,
 "nbformat_minor": 5
}
