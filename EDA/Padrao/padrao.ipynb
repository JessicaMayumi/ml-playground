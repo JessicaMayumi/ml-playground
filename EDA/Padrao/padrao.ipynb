{
 "cells": [
  {
   "cell_type": "code",
   "execution_count": null,
   "id": "ebb08921",
   "metadata": {},
   "outputs": [],
   "source": [
    "import pandas as pd\n",
    "import numpy as np\n",
    "\n",
    "import matplotlib.pyplot as plt\n",
    "import seaborn as sns\n",
    "\n",
    "from tkinter import filedialog\n",
    "from tkinter import Tk"
   ]
  },
  {
   "cell_type": "markdown",
   "id": "f6420c51",
   "metadata": {},
   "source": [
    "---\n",
    "# **Importando uma base de dados**"
   ]
  },
  {
   "cell_type": "code",
   "execution_count": 6,
   "id": "d724792d",
   "metadata": {},
   "outputs": [
    {
     "name": "stdout",
     "output_type": "stream",
     "text": [
      "Arquivo 'D:/GitHub/ml-playground/EDA/DisneyMovies/disney_movies.csv' carregado com sucesso!\n"
     ]
    }
   ],
   "source": [
    "# Seleciona um arquivo\n",
    "root = Tk()\n",
    "root.withdraw()\n",
    "file_path = filedialog.askopenfilename(title=\"Escolha um arquivo CSV\", filetypes=((\"CSV files\", \"*.csv\"), (\"All files\", \"*.*\"))) #Tipo de arquivo\n",
    "\n",
    "# Verifica se um arquivo foi selecionado\n",
    "if file_path:\n",
    "    df = pd.read_csv(file_path, sep=',') #Sempre verificar o separador\n",
    "    print(f\"Arquivo '{file_path}' carregado com sucesso!\")\n",
    "else:\n",
    "    print(\"Nenhum arquivo selecionado.\")\n"
   ]
  },
  {
   "cell_type": "markdown",
   "id": "b4328281",
   "metadata": {},
   "source": [
    "---\n",
    "# **Visualizando os Dados**"
   ]
  },
  {
   "cell_type": "code",
   "execution_count": 7,
   "id": "fcb67c22",
   "metadata": {},
   "outputs": [
    {
     "data": {
      "application/vnd.microsoft.datawrangler.viewer.v0+json": {
       "columns": [
        {
         "name": "index",
         "rawType": "int64",
         "type": "integer"
        },
        {
         "name": "movie_title",
         "rawType": "object",
         "type": "string"
        },
        {
         "name": "release_date",
         "rawType": "object",
         "type": "string"
        },
        {
         "name": "genre",
         "rawType": "object",
         "type": "string"
        },
        {
         "name": "mpaa_rating",
         "rawType": "object",
         "type": "string"
        },
        {
         "name": "total_gross",
         "rawType": "int64",
         "type": "integer"
        },
        {
         "name": "inflation_adjusted_gross",
         "rawType": "int64",
         "type": "integer"
        }
       ],
       "conversionMethod": "pd.DataFrame",
       "ref": "5d975fad-27f8-4e61-8017-b8214740ab3f",
       "rows": [
        [
         "0",
         "Snow White and the Seven Dwarfs",
         "1937-12-21",
         "Musical",
         "G",
         "184925485",
         "5228953251"
        ],
        [
         "1",
         "Pinocchio",
         "1940-02-09",
         "Adventure",
         "G",
         "84300000",
         "2188229052"
        ],
        [
         "2",
         "Fantasia",
         "1940-11-13",
         "Musical",
         "G",
         "83320000",
         "2187090808"
        ],
        [
         "3",
         "Song of the South",
         "1946-11-12",
         "Adventure",
         "G",
         "65000000",
         "1078510579"
        ],
        [
         "4",
         "Cinderella",
         "1950-02-15",
         "Drama",
         "G",
         "85000000",
         "920608730"
        ]
       ],
       "shape": {
        "columns": 6,
        "rows": 5
       }
      },
      "text/html": [
       "<div>\n",
       "<style scoped>\n",
       "    .dataframe tbody tr th:only-of-type {\n",
       "        vertical-align: middle;\n",
       "    }\n",
       "\n",
       "    .dataframe tbody tr th {\n",
       "        vertical-align: top;\n",
       "    }\n",
       "\n",
       "    .dataframe thead th {\n",
       "        text-align: right;\n",
       "    }\n",
       "</style>\n",
       "<table border=\"1\" class=\"dataframe\">\n",
       "  <thead>\n",
       "    <tr style=\"text-align: right;\">\n",
       "      <th></th>\n",
       "      <th>movie_title</th>\n",
       "      <th>release_date</th>\n",
       "      <th>genre</th>\n",
       "      <th>mpaa_rating</th>\n",
       "      <th>total_gross</th>\n",
       "      <th>inflation_adjusted_gross</th>\n",
       "    </tr>\n",
       "  </thead>\n",
       "  <tbody>\n",
       "    <tr>\n",
       "      <th>0</th>\n",
       "      <td>Snow White and the Seven Dwarfs</td>\n",
       "      <td>1937-12-21</td>\n",
       "      <td>Musical</td>\n",
       "      <td>G</td>\n",
       "      <td>184925485</td>\n",
       "      <td>5228953251</td>\n",
       "    </tr>\n",
       "    <tr>\n",
       "      <th>1</th>\n",
       "      <td>Pinocchio</td>\n",
       "      <td>1940-02-09</td>\n",
       "      <td>Adventure</td>\n",
       "      <td>G</td>\n",
       "      <td>84300000</td>\n",
       "      <td>2188229052</td>\n",
       "    </tr>\n",
       "    <tr>\n",
       "      <th>2</th>\n",
       "      <td>Fantasia</td>\n",
       "      <td>1940-11-13</td>\n",
       "      <td>Musical</td>\n",
       "      <td>G</td>\n",
       "      <td>83320000</td>\n",
       "      <td>2187090808</td>\n",
       "    </tr>\n",
       "    <tr>\n",
       "      <th>3</th>\n",
       "      <td>Song of the South</td>\n",
       "      <td>1946-11-12</td>\n",
       "      <td>Adventure</td>\n",
       "      <td>G</td>\n",
       "      <td>65000000</td>\n",
       "      <td>1078510579</td>\n",
       "    </tr>\n",
       "    <tr>\n",
       "      <th>4</th>\n",
       "      <td>Cinderella</td>\n",
       "      <td>1950-02-15</td>\n",
       "      <td>Drama</td>\n",
       "      <td>G</td>\n",
       "      <td>85000000</td>\n",
       "      <td>920608730</td>\n",
       "    </tr>\n",
       "  </tbody>\n",
       "</table>\n",
       "</div>"
      ],
      "text/plain": [
       "                       movie_title release_date      genre mpaa_rating  \\\n",
       "0  Snow White and the Seven Dwarfs   1937-12-21    Musical           G   \n",
       "1                        Pinocchio   1940-02-09  Adventure           G   \n",
       "2                         Fantasia   1940-11-13    Musical           G   \n",
       "3                Song of the South   1946-11-12  Adventure           G   \n",
       "4                       Cinderella   1950-02-15      Drama           G   \n",
       "\n",
       "   total_gross  inflation_adjusted_gross  \n",
       "0    184925485                5228953251  \n",
       "1     84300000                2188229052  \n",
       "2     83320000                2187090808  \n",
       "3     65000000                1078510579  \n",
       "4     85000000                 920608730  "
      ]
     },
     "execution_count": 7,
     "metadata": {},
     "output_type": "execute_result"
    }
   ],
   "source": [
    "df.head()"
   ]
  },
  {
   "cell_type": "code",
   "execution_count": 8,
   "id": "b585e117",
   "metadata": {},
   "outputs": [
    {
     "name": "stdout",
     "output_type": "stream",
     "text": [
      "<class 'pandas.core.frame.DataFrame'>\n",
      "RangeIndex: 579 entries, 0 to 578\n",
      "Data columns (total 6 columns):\n",
      " #   Column                    Non-Null Count  Dtype \n",
      "---  ------                    --------------  ----- \n",
      " 0   movie_title               579 non-null    object\n",
      " 1   release_date              579 non-null    object\n",
      " 2   genre                     562 non-null    object\n",
      " 3   mpaa_rating               523 non-null    object\n",
      " 4   total_gross               579 non-null    int64 \n",
      " 5   inflation_adjusted_gross  579 non-null    int64 \n",
      "dtypes: int64(2), object(4)\n",
      "memory usage: 27.3+ KB\n"
     ]
    }
   ],
   "source": [
    "df.info()"
   ]
  },
  {
   "cell_type": "code",
   "execution_count": 9,
   "id": "04fec74e",
   "metadata": {},
   "outputs": [
    {
     "data": {
      "application/vnd.microsoft.datawrangler.viewer.v0+json": {
       "columns": [
        {
         "name": "index",
         "rawType": "int64",
         "type": "integer"
        },
        {
         "name": "movie_title",
         "rawType": "object",
         "type": "string"
        },
        {
         "name": "release_date",
         "rawType": "object",
         "type": "string"
        },
        {
         "name": "genre",
         "rawType": "object",
         "type": "string"
        },
        {
         "name": "mpaa_rating",
         "rawType": "object",
         "type": "string"
        },
        {
         "name": "total_gross",
         "rawType": "int64",
         "type": "integer"
        },
        {
         "name": "inflation_adjusted_gross",
         "rawType": "int64",
         "type": "integer"
        }
       ],
       "conversionMethod": "pd.DataFrame",
       "ref": "f2e38c22-75a3-4eb0-9f75-f1ff3ae9a4be",
       "rows": [
        [
         "574",
         "The Light Between Oceans",
         "2016-09-02",
         "Drama",
         "PG-13",
         "12545979",
         "12545979"
        ],
        [
         "575",
         "Queen of Katwe",
         "2016-09-23",
         "Drama",
         "PG",
         "8874389",
         "8874389"
        ],
        [
         "576",
         "Doctor Strange",
         "2016-11-04",
         "Adventure",
         "PG-13",
         "232532923",
         "232532923"
        ],
        [
         "577",
         "Moana",
         "2016-11-23",
         "Adventure",
         "PG",
         "246082029",
         "246082029"
        ],
        [
         "578",
         "Rogue One: A Star Wars Story",
         "2016-12-16",
         "Adventure",
         "PG-13",
         "529483936",
         "529483936"
        ]
       ],
       "shape": {
        "columns": 6,
        "rows": 5
       }
      },
      "text/html": [
       "<div>\n",
       "<style scoped>\n",
       "    .dataframe tbody tr th:only-of-type {\n",
       "        vertical-align: middle;\n",
       "    }\n",
       "\n",
       "    .dataframe tbody tr th {\n",
       "        vertical-align: top;\n",
       "    }\n",
       "\n",
       "    .dataframe thead th {\n",
       "        text-align: right;\n",
       "    }\n",
       "</style>\n",
       "<table border=\"1\" class=\"dataframe\">\n",
       "  <thead>\n",
       "    <tr style=\"text-align: right;\">\n",
       "      <th></th>\n",
       "      <th>movie_title</th>\n",
       "      <th>release_date</th>\n",
       "      <th>genre</th>\n",
       "      <th>mpaa_rating</th>\n",
       "      <th>total_gross</th>\n",
       "      <th>inflation_adjusted_gross</th>\n",
       "    </tr>\n",
       "  </thead>\n",
       "  <tbody>\n",
       "    <tr>\n",
       "      <th>574</th>\n",
       "      <td>The Light Between Oceans</td>\n",
       "      <td>2016-09-02</td>\n",
       "      <td>Drama</td>\n",
       "      <td>PG-13</td>\n",
       "      <td>12545979</td>\n",
       "      <td>12545979</td>\n",
       "    </tr>\n",
       "    <tr>\n",
       "      <th>575</th>\n",
       "      <td>Queen of Katwe</td>\n",
       "      <td>2016-09-23</td>\n",
       "      <td>Drama</td>\n",
       "      <td>PG</td>\n",
       "      <td>8874389</td>\n",
       "      <td>8874389</td>\n",
       "    </tr>\n",
       "    <tr>\n",
       "      <th>576</th>\n",
       "      <td>Doctor Strange</td>\n",
       "      <td>2016-11-04</td>\n",
       "      <td>Adventure</td>\n",
       "      <td>PG-13</td>\n",
       "      <td>232532923</td>\n",
       "      <td>232532923</td>\n",
       "    </tr>\n",
       "    <tr>\n",
       "      <th>577</th>\n",
       "      <td>Moana</td>\n",
       "      <td>2016-11-23</td>\n",
       "      <td>Adventure</td>\n",
       "      <td>PG</td>\n",
       "      <td>246082029</td>\n",
       "      <td>246082029</td>\n",
       "    </tr>\n",
       "    <tr>\n",
       "      <th>578</th>\n",
       "      <td>Rogue One: A Star Wars Story</td>\n",
       "      <td>2016-12-16</td>\n",
       "      <td>Adventure</td>\n",
       "      <td>PG-13</td>\n",
       "      <td>529483936</td>\n",
       "      <td>529483936</td>\n",
       "    </tr>\n",
       "  </tbody>\n",
       "</table>\n",
       "</div>"
      ],
      "text/plain": [
       "                      movie_title release_date      genre mpaa_rating  \\\n",
       "574      The Light Between Oceans   2016-09-02      Drama       PG-13   \n",
       "575                Queen of Katwe   2016-09-23      Drama          PG   \n",
       "576                Doctor Strange   2016-11-04  Adventure       PG-13   \n",
       "577                         Moana   2016-11-23  Adventure          PG   \n",
       "578  Rogue One: A Star Wars Story   2016-12-16  Adventure       PG-13   \n",
       "\n",
       "     total_gross  inflation_adjusted_gross  \n",
       "574     12545979                  12545979  \n",
       "575      8874389                   8874389  \n",
       "576    232532923                 232532923  \n",
       "577    246082029                 246082029  \n",
       "578    529483936                 529483936  "
      ]
     },
     "execution_count": 9,
     "metadata": {},
     "output_type": "execute_result"
    }
   ],
   "source": [
    "df.tail()"
   ]
  },
  {
   "cell_type": "code",
   "execution_count": 10,
   "id": "0a4c5b31",
   "metadata": {},
   "outputs": [
    {
     "name": "stdout",
     "output_type": "stream",
     "text": [
      "Linhas: 579\n",
      "Colunas:6\n"
     ]
    }
   ],
   "source": [
    "linhas, colunas = df.shape\n",
    "print(f\"Linhas: {linhas:,}\\nColunas:{colunas:,}\")"
   ]
  },
  {
   "cell_type": "markdown",
   "id": "1ee218ed",
   "metadata": {},
   "source": [
    "---\n",
    "# **Data Preparation**\n",
    "\n",
    "- Alterar nomes de colunas"
   ]
  },
  {
   "cell_type": "markdown",
   "id": "6962dede",
   "metadata": {},
   "source": [
    "---\n",
    "# **EDA**"
   ]
  },
  {
   "cell_type": "markdown",
   "id": "3096f9f9",
   "metadata": {},
   "source": [
    "1. Verificando os tipos de dados"
   ]
  },
  {
   "cell_type": "code",
   "execution_count": 11,
   "id": "7791f614",
   "metadata": {},
   "outputs": [
    {
     "name": "stdout",
     "output_type": "stream",
     "text": [
      "4 colunas do tipo object, 2 colunas do tipo int64\n"
     ]
    }
   ],
   "source": [
    "contagem_tipos = df.dtypes.value_counts().to_dict()\n",
    "resumo = \", \".join([f\"{contagem} colunas do tipo {tipo}\" for tipo, contagem in contagem_tipos.items()])\n",
    "print(resumo)"
   ]
  },
  {
   "cell_type": "code",
   "execution_count": null,
   "id": "feb1998b",
   "metadata": {},
   "outputs": [
    {
     "name": "stdout",
     "output_type": "stream",
     "text": [
      "Mais detalhes sobre as colunas:\n",
      "\n",
      "                         Tipo de Dado  Contagem nao nulos  Contagem nulos  \\\n",
      "movie_title                    object                 579               0   \n",
      "release_date                   object                 579               0   \n",
      "genre                          object                 562              17   \n",
      "mpaa_rating                    object                 523              56   \n",
      "total_gross                     int64                 579               0   \n",
      "inflation_adjusted_gross        int64                 579               0   \n",
      "\n",
      "                          Porcentagem nulos  Valores unicos  \n",
      "movie_title                            0.00             573  \n",
      "release_date                           0.00             553  \n",
      "genre                                  2.94              12  \n",
      "mpaa_rating                            9.67               5  \n",
      "total_gross                            0.00             576  \n",
      "inflation_adjusted_gross               0.00             576  \n"
     ]
    }
   ],
   "source": [
    "print(\"Mais detalhes sobre as colunas:\\n\")\n",
    "\n",
    "informacoes_colunas = pd.DataFrame({\n",
    "    'Tipo de Dado': df.dtypes,\n",
    "    'Contagem nao nulos': df.count(),\n",
    "    'Contagem nulos': df.isnull().sum(),\n",
    "    'Porcentagem nulos': (df.isnull().sum() / len(df) * 100).round(2),\n",
    "    'Valores unicos': df.nunique(),\n",
    "    'Porcentagem cardinalidade' : (df.nunique() / len(df) *100).round(2)\n",
    "})\n",
    "\n",
    "print(informacoes_colunas)\n"
   ]
  },
  {
   "cell_type": "code",
   "execution_count": 13,
   "id": "5c37e2d1",
   "metadata": {},
   "outputs": [],
   "source": [
    "porcentagem_nulos_alta = informacoes_colunas[informacoes_colunas['Porcentagem nulos'] > 25].index.tolist() # Porcentagem de valores Nulos\n",
    "if porcentagem_nulos_alta:\n",
    "    print(f\"Colunas com altas taxas de valores nulos: {', '.join(porcentagem_nulos_alta)}\")"
   ]
  },
  {
   "cell_type": "code",
   "execution_count": 14,
   "id": "88af8855",
   "metadata": {},
   "outputs": [],
   "source": [
    "valor_unico = informacoes_colunas[informacoes_colunas['Valores unicos'] == 1].index.tolist()\n",
    "if valor_unico:\n",
    "    print(f\"Colunas com um único valor: {', '.join(valor_unico)}\")"
   ]
  },
  {
   "cell_type": "code",
   "execution_count": null,
   "id": "1eb20b63",
   "metadata": {},
   "outputs": [],
   "source": [
    "porcentagem_cardinalidade_alta = informacoes_colunas[informacoes_colunas['Porcentagem cardinalidade'] > 90].index.tolist()\n",
    "if porcentagem_cardinalidade_alta:\n",
    "    print(f\"Colunas com altas taxas de cardinalidade: {', '.join(porcentagem_cardinalidade_alta)}\")"
   ]
  },
  {
   "cell_type": "markdown",
   "id": "57b52daf",
   "metadata": {},
   "source": [
    "2. Analizando os valores nulos"
   ]
  },
  {
   "cell_type": "code",
   "execution_count": 15,
   "id": "b190a0ff",
   "metadata": {},
   "outputs": [
    {
     "name": "stdout",
     "output_type": "stream",
     "text": [
      "Visão geral: 73 valores nulos de 3474 células, sendo 2.10% do total.\n"
     ]
    }
   ],
   "source": [
    "total_celulas = np.prod(df.shape)\n",
    "total_nulos = df.isnull().sum().sum()\n",
    "porcentagem_nulos = (total_nulos/total_celulas) * 100\n",
    "\n",
    "print(f\"Visão geral: {total_nulos} valores nulos de {total_celulas} células, sendo {porcentagem_nulos:.2f}% do total.\")"
   ]
  },
  {
   "cell_type": "code",
   "execution_count": 16,
   "id": "67cd6746",
   "metadata": {},
   "outputs": [
    {
     "data": {
      "image/png": "[encoded data removed]",
      "text/plain": [
       "<Figure size 1200x600 with 1 Axes>"
      ]
     },
     "metadata": {},
     "output_type": "display_data"
    },
    {
     "name": "stdout",
     "output_type": "stream",
     "text": [
      "Colunas com dados nulos: genre, mpaa_rating\n"
     ]
    },
    {
     "data": {
      "image/png": "[encoded data removed]",
      "text/plain": [
       "<Figure size 1200x600 with 1 Axes>"
      ]
     },
     "metadata": {},
     "output_type": "display_data"
    },
    {
     "data": {
      "application/vnd.microsoft.datawrangler.viewer.v0+json": {
       "columns": [
        {
         "name": "index",
         "rawType": "object",
         "type": "string"
        },
        {
         "name": "Contagem de nulos",
         "rawType": "int64",
         "type": "integer"
        },
        {
         "name": "Porcentagem de nulos",
         "rawType": "float64",
         "type": "float"
        }
       ],
       "conversionMethod": "pd.DataFrame",
       "ref": "a4e97e64-b225-43ec-b3a4-7d158bed0eee",
       "rows": [
        [
         "mpaa_rating",
         "56",
         "9.67"
        ],
        [
         "genre",
         "17",
         "2.94"
        ]
       ],
       "shape": {
        "columns": 2,
        "rows": 2
       }
      },
      "text/html": [
       "<div>\n",
       "<style scoped>\n",
       "    .dataframe tbody tr th:only-of-type {\n",
       "        vertical-align: middle;\n",
       "    }\n",
       "\n",
       "    .dataframe tbody tr th {\n",
       "        vertical-align: top;\n",
       "    }\n",
       "\n",
       "    .dataframe thead th {\n",
       "        text-align: right;\n",
       "    }\n",
       "</style>\n",
       "<table border=\"1\" class=\"dataframe\">\n",
       "  <thead>\n",
       "    <tr style=\"text-align: right;\">\n",
       "      <th></th>\n",
       "      <th>Contagem de nulos</th>\n",
       "      <th>Porcentagem de nulos</th>\n",
       "    </tr>\n",
       "  </thead>\n",
       "  <tbody>\n",
       "    <tr>\n",
       "      <th>mpaa_rating</th>\n",
       "      <td>56</td>\n",
       "      <td>9.67</td>\n",
       "    </tr>\n",
       "    <tr>\n",
       "      <th>genre</th>\n",
       "      <td>17</td>\n",
       "      <td>2.94</td>\n",
       "    </tr>\n",
       "  </tbody>\n",
       "</table>\n",
       "</div>"
      ],
      "text/plain": [
       "             Contagem de nulos  Porcentagem de nulos\n",
       "mpaa_rating                 56                  9.67\n",
       "genre                       17                  2.94"
      ]
     },
     "metadata": {},
     "output_type": "display_data"
    }
   ],
   "source": [
    "if total_nulos > 0:\n",
    "    #plotar um gráfico de nulos\n",
    "    plt.figure(figsize=(12,6))\n",
    "    ax = sns.heatmap(df.isnull(), cbar = False, cmap = \"viridis\", yticklabels = False)\n",
    "    plt.title(\"Mapa de Valores nulos\")\n",
    "    plt.tight_layout()\n",
    "    plt.show()\n",
    "\n",
    "    colunas_nulos = df.columns[df.isnull().any()].tolist()\n",
    "    print(f\"Colunas com dados nulos: {', '.join(colunas_nulos)}\")\n",
    "\n",
    "    dados_nulos = pd.DataFrame({\n",
    "        'Contagem de nulos': df.isnull().sum(),\n",
    "        'Porcentagem de nulos': (df.isnull().sum() / len(df) * 100).round(2)\n",
    "    }).sort_values('Porcentagem de nulos', ascending=False)\n",
    "\n",
    "    dados_nulos = dados_nulos[dados_nulos['Contagem de nulos'] > 0]\n",
    "\n",
    "    plt.figure(figsize = (12,6))\n",
    "    ax = dados_nulos['Porcentagem de nulos'].plot(kind='bar')\n",
    "    plt.title('Porcentagem de valores nulos por Coluna')\n",
    "    plt.xlabel('Colunas')\n",
    "    plt.ylabel('Porcentagem de nulos')\n",
    "    plt.xticks(rotation=90)\n",
    "    plt.tight_layout()\n",
    "    plt.show()\n",
    "    display(dados_nulos)\n",
    "\n",
    "else:\n",
    "    print(f\"Não foram encontrados valores nulos!\")"
   ]
  },
  {
   "cell_type": "markdown",
   "id": "e9d7a8bc",
   "metadata": {},
   "source": [
    "3. Verificando se existe registros duplicados"
   ]
  },
  {
   "cell_type": "code",
   "execution_count": 17,
   "id": "7445e9f7",
   "metadata": {},
   "outputs": [
    {
     "name": "stdout",
     "output_type": "stream",
     "text": [
      "Não foi encontrado registros duplicados no dataset.\n"
     ]
    }
   ],
   "source": [
    "contagem_duplicados =  df.duplicated().sum()\n",
    "\n",
    "if contagem_duplicados > 0:\n",
    "    porcentagem_duplicados = (contagem_duplicados / len(df)) * 100\n",
    "    print(f\"Foi encontrado {contagem_duplicados} registros duplicados, o que corresponde a {porcentagem_duplicados:.2f} do total de registros\")\n",
    "else: \n",
    "    print(\"Não foi encontrado registros duplicados no dataset.\")"
   ]
  },
  {
   "cell_type": "markdown",
   "id": "aa927c16",
   "metadata": {},
   "source": [
    "4. Inferindo tipos de dados"
   ]
  },
  {
   "cell_type": "code",
   "execution_count": null,
   "id": "9e8d655c",
   "metadata": {},
   "outputs": [],
   "source": [
    "def inferir_tipos_colunas(df):\n",
    "    col_numericas = []\n",
    "    col_categorias = []\n",
    "    col_datetime = []\n",
    "    col_text = []\n",
    "    col_id = []\n",
    "\n",
    "    for col in df.columns:\n",
    "        if pd.api.types.is_datetime64_any_dtype(df[col]):\n",
    "            col_datetime.append(col)\n",
    "        elif pd.api.types.is_numeric_dtype(df[col]):\n",
    "            if(\"id\" in col.lower() or col.lower().endwith(\"_id\") and df[col].nunique() > 0.8 *len(df)):\n",
    "                col_id.append(col)\n",
    "            else: \n",
    "                col_numericas.append(col)\n",
    "        elif pd.api.types.is_object_dtype(df[col]):\n",
    "            sample = df[col].dropna().sample(min(10, len(df[col].dropna()))).astype(str)\n",
    "            avg_len = sample.str.len().mean()\n",
    "            max_len = sample.str.len().max()\n",
    "            unique_ratio = df[col].nunique() / len(df[col].dropna())\n",
    "            if ('id' in col.lower() or col.lower().endswith('_id')) and unique_ratio > 0.8:\n",
    "                    col_id.append(col)\n",
    "            elif avg_len > 50 or (max_len > 100 and unique_ratio > 0.9):\n",
    "                col_text.append(col)\n",
    "            else:\n",
    "                col_categorias.append(col)\n",
    "\n",
    "    return {\n",
    "        'numerica': col_numericas,\n",
    "        'categorica': col_categorias,\n",
    "        'datetime': col_datetime,\n",
    "        'textual': col_text,\n",
    "        'id': col_id\n",
    "    }\n",
    "\n",
    "    tipos_colunas = inferir_tipos_colunas(df)"
   ]
  },
  {
   "cell_type": "code",
   "execution_count": null,
   "id": "654a37af",
   "metadata": {},
   "outputs": [],
   "source": [
    "for tipo, cols in tipos_colunas.items():\n",
    "    if cols:\n",
    "        print(f\"**{tipo.capitalize()} columns ({len(cols)})**: {', '.join(cols)}\")"
   ]
  },
  {
   "cell_type": "markdown",
   "id": "e2b3c2fb",
   "metadata": {},
   "source": [
    "5. Verificando inconsistências ou possíveis problemas"
   ]
  },
  {
   "cell_type": "code",
   "execution_count": null,
   "id": "a2bc8bb6",
   "metadata": {},
   "outputs": [],
   "source": [
    "def verificar_consistencia_dados(df):\n",
    "    problemas = []\n",
    "\n",
    "    for col in tipos_colunas['numerica']:\n",
    "        if df[col].dtype in [np.int64, np.int32, np.float64, np.float32]:\n",
    "            if df[col].isnull().sum() > 0.5 * len(df):\n",
    "                continue\n",
    "            # verifica outliers usando o método IQR\n",
    "            Q1 = df[col].quantile(0.25)\n",
    "            Q3 = df[col].quantile(0.75)\n",
    "            IQR = Q3 - Q1\n",
    "            menor_suspeito = Q1 - 1.5 * IQR\n",
    "            maior_suspeito = Q3 + 1.5 * IQR\n",
    "\n",
    "            outliers = df[(df[col] < menor_suspeito) | (df[col] > maior_suspeito)]\n",
    "            porcentagem_outliers = len(outliers) / len(df) * 100\n",
    "        \n",
    "            if porcentagem_outliers > 5:\n",
    "                issues.append(f\"Coluna '{col}' tem {porcentagem_outliers:.2f}% de possíveis outliers\"\n",
    "                             f\"(outside range: {menor_suspeito:.2f} to {maior_suspeito:.2f})\")\n",
    "\n",
    "            indicadores_quantidade = ['amount', 'count', 'qty', 'quantity', 'price', 'age', 'weight', 'height']\n",
    "            if any(indicador in col.lower() for indicador in indicadores_quantidade):\n",
    "                neg_values = (df[col] < 0).sum()\n",
    "                if neg_values > 0:\n",
    "                    issues.append(f\"Coluna '{col}' contém {neg_values} valores negativos, \"\n",
    "                                 f\"which might be inappropriate for this type of data.\")\n",
    "    \n",
    "    for col in tipos_colunas['categorica']:\n",
    "        if df[col].isnull().sum() > 0.5 * len(df):\n",
    "            continue\n",
    "            \n",
    "        if df[col].nunique() > 1:\n",
    "            value_counts = df[col].value_counts()\n",
    "            rare_values = value_counts[value_counts < len(df) * 0.01]\n",
    "            if len(rare_values) > 0 and len(rare_values) < 0.5 * df[col].nunique():\n",
    "                issues.append(f\"Column '{col}' has {len(rare_values)} rare categories \"\n",
    "                             f\"(each <1% of data), which might need grouping.\")\n",
    "\n",
    "        if df[col].dtype == object:\n",
    "            valores = df[col].dropna().astype(str)\n",
    "            valores_baixos = valores.str.lower()\n",
    "            casos_duplicados = valores_baixos.value_counts()[valores_baixos.value_counts() > 1].index\n",
    "\n",
    "        if len(casos_duplicados) > 0:\n",
    "            "
   ]
  },
  {
   "cell_type": "markdown",
   "id": "6d302d73",
   "metadata": {},
   "source": []
  }
 ],
 "metadata": {
  "kernelspec": {
   "display_name": "venv",
   "language": "python",
   "name": "python3"
  },
  "language_info": {
   "codemirror_mode": {
    "name": "ipython",
    "version": 3
   },
   "file_extension": ".py",
   "mimetype": "text/x-python",
   "name": "python",
   "nbconvert_exporter": "python",
   "pygments_lexer": "ipython3",
   "version": "3.11.9"
  }
 },
 "nbformat": 4,
 "nbformat_minor": 5
}
