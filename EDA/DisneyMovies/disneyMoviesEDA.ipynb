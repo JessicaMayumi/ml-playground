{
 "cells": [
  {
   "cell_type": "code",
   "execution_count": 116,
   "id": "14e78936",
   "metadata": {},
   "outputs": [],
   "source": [
    "import pandas as pd"
   ]
  },
  {
   "cell_type": "code",
   "execution_count": 131,
   "id": "dbafb4db",
   "metadata": {},
   "outputs": [],
   "source": [
    "df = pd.read_csv('disney_movies.csv')"
   ]
  },
  {
   "cell_type": "code",
   "execution_count": 132,
   "id": "b51532ac",
   "metadata": {},
   "outputs": [
    {
     "data": {
      "application/vnd.microsoft.datawrangler.viewer.v0+json": {
       "columns": [
        {
         "name": "index",
         "rawType": "int64",
         "type": "integer"
        },
        {
         "name": "movie_title",
         "rawType": "object",
         "type": "string"
        },
        {
         "name": "release_date",
         "rawType": "object",
         "type": "string"
        },
        {
         "name": "genre",
         "rawType": "object",
         "type": "unknown"
        },
        {
         "name": "mpaa_rating",
         "rawType": "object",
         "type": "unknown"
        },
        {
         "name": "total_gross",
         "rawType": "int64",
         "type": "integer"
        },
        {
         "name": "inflation_adjusted_gross",
         "rawType": "int64",
         "type": "integer"
        }
       ],
       "conversionMethod": "pd.DataFrame",
       "ref": "b3eb0edb-c6e1-493d-aecf-6dbf24ee9356",
       "rows": [
        [
         "0",
         "Snow White and the Seven Dwarfs",
         "1937-12-21",
         "Musical",
         "G",
         "184925485",
         "5228953251"
        ],
        [
         "1",
         "Pinocchio",
         "1940-02-09",
         "Adventure",
         "G",
         "84300000",
         "2188229052"
        ],
        [
         "2",
         "Fantasia",
         "1940-11-13",
         "Musical",
         "G",
         "83320000",
         "2187090808"
        ],
        [
         "3",
         "Song of the South",
         "1946-11-12",
         "Adventure",
         "G",
         "65000000",
         "1078510579"
        ],
        [
         "4",
         "Cinderella",
         "1950-02-15",
         "Drama",
         "G",
         "85000000",
         "920608730"
        ],
        [
         "5",
         "20,000 Leagues Under the Sea",
         "1954-12-23",
         "Adventure",
         null,
         "28200000",
         "528279994"
        ],
        [
         "6",
         "Lady and the Tramp",
         "1955-06-22",
         "Drama",
         "G",
         "93600000",
         "1236035515"
        ],
        [
         "7",
         "Sleeping Beauty",
         "1959-01-29",
         "Drama",
         null,
         "9464608",
         "21505832"
        ],
        [
         "8",
         "101 Dalmatians",
         "1961-01-25",
         "Comedy",
         "G",
         "153000000",
         "1362870985"
        ],
        [
         "9",
         "The Absent Minded Professor",
         "1961-03-16",
         "Comedy",
         null,
         "25381407",
         "310094574"
        ],
        [
         "10",
         "Babes in Toyland",
         "1961-12-14",
         "Musical",
         "G",
         "10218316",
         "124841160"
        ],
        [
         "11",
         "Bon Voyage!",
         "1962-05-17",
         "Comedy",
         "Not Rated",
         "9230769",
         "109581646"
        ],
        [
         "12",
         "The Sword in the Stone",
         "1963-12-25",
         "Adventure",
         null,
         "22182353",
         "153870834"
        ],
        [
         "13",
         "The Jungle Book",
         "1967-10-18",
         "Musical",
         "Not Rated",
         "141843000",
         "789612346"
        ],
        [
         "14",
         "Blackbeard's Ghost",
         "1968-02-08",
         "Comedy",
         null,
         "21540050",
         "138612686"
        ],
        [
         "15",
         "The Aristocats",
         "1970-04-24",
         "Musical",
         "G",
         "55675257",
         "255161499"
        ],
        [
         "16",
         "The Boatniks",
         "1970-07-01",
         "Comedy",
         null,
         "18607492",
         "101200742"
        ],
        [
         "17",
         "Bedknobs and Broomsticks",
         "1971-10-07",
         "Musical",
         null,
         "17871174",
         "91305448"
        ],
        [
         "18",
         "The Apple Dumpling Gang",
         "1975-07-01",
         "Comedy",
         null,
         "31916500",
         "131246872"
        ],
        [
         "19",
         "Freaky Friday",
         "1977-01-21",
         "Comedy",
         null,
         "25942000",
         "98067733"
        ],
        [
         "20",
         "The Many Adventures of Winnie the Pooh",
         "1977-03-11",
         null,
         null,
         "0",
         "0"
        ],
        [
         "21",
         "The Rescuers",
         "1977-06-22",
         "Adventure",
         null,
         "48775599",
         "159743914"
        ],
        [
         "22",
         "Herbie Goes to Monte Carlo",
         "1977-06-24",
         null,
         null,
         "28000000",
         "105847527"
        ],
        [
         "23",
         "The Black Hole",
         "1979-12-21",
         null,
         null,
         "35841901",
         "120377374"
        ],
        [
         "24",
         "Midnight Madness",
         "1980-02-08",
         null,
         null,
         "2900000",
         "9088096"
        ],
        [
         "25",
         "The Last Flight of Noah’s Ark",
         "1980-06-25",
         null,
         null,
         "11000000",
         "34472116"
        ],
        [
         "26",
         "The Devil and Max Devlin",
         "1981-01-01",
         null,
         null,
         "16000000",
         "48517980"
        ],
        [
         "27",
         "Amy",
         "1981-03-20",
         "Drama",
         null,
         "0",
         "0"
        ],
        [
         "28",
         "The Fox and the Hound",
         "1981-07-10",
         "Comedy",
         null,
         "43899231",
         "133118889"
        ],
        [
         "29",
         "Condorman",
         "1981-08-07",
         "Action",
         null,
         "0",
         "0"
        ],
        [
         "30",
         "Night Crossing",
         "1982-02-05",
         "Drama",
         null,
         "4500000",
         "12903059"
        ],
        [
         "31",
         "Tron",
         "1982-07-09",
         "Action",
         null,
         "26918576",
         "77184895"
        ],
        [
         "32",
         "Tex",
         "1982-11-19",
         "Drama",
         null,
         "7199408",
         "20643199"
        ],
        [
         "33",
         "Trenchcoat",
         "1983-03-11",
         "Comedy",
         null,
         "4304286",
         "11519089"
        ],
        [
         "34",
         "Something Wicked This Way Comes",
         "1983-04-29",
         "Horror",
         null,
         "5656087",
         "15136765"
        ],
        [
         "35",
         "Never Cry Wolf",
         "1983-10-07",
         "Drama",
         null,
         "27668764",
         "70669955"
        ],
        [
         "36",
         "Running Brave",
         "1983-11-04",
         "Drama",
         null,
         "1204595",
         "3223725"
        ],
        [
         "37",
         "Splash",
         "1984-03-09",
         "Comedy",
         "PG",
         "62599495",
         "157057661"
        ],
        [
         "38",
         "Country",
         "1984-09-29",
         "Drama",
         null,
         "8400000",
         "21075000"
        ],
        [
         "39",
         "Baby: Secret of the Lost Legend",
         "1985-03-22",
         "Adventure",
         null,
         "14276095",
         "33900697"
        ],
        [
         "40",
         "Return to Oz",
         "1985-06-21",
         "Adventure",
         null,
         "10618813",
         "25215934"
        ],
        [
         "41",
         "The Black Cauldron",
         "1985-07-24",
         "Adventure",
         null,
         "21288692",
         "50553142"
        ],
        [
         "42",
         "My Science Project",
         "1985-08-09",
         "Comedy",
         null,
         "4100000",
         "9736051"
        ],
        [
         "43",
         "The Journey of Natty Gann",
         "1985-09-27",
         "Drama",
         null,
         "9468512",
         "22302956"
        ],
        [
         "44",
         "One Magic Christmas",
         "1985-11-22",
         "Drama",
         null,
         "13229514",
         "31415432"
        ],
        [
         "45",
         "Down and Out in Beverly Hills",
         "1986-01-31",
         "Comedy",
         "R",
         "62134225",
         "141183693"
        ],
        [
         "46",
         "Off Beat",
         "1986-04-11",
         "Comedy",
         null,
         "4842778",
         "11003932"
        ],
        [
         "47",
         "Ruthless People",
         "1986-06-27",
         "Comedy",
         "R",
         "71624879",
         "162748712"
        ],
        [
         "48",
         "The Great Mouse Detective",
         "1986-07-02",
         "Adventure",
         null,
         "23605534",
         "53637367"
        ],
        [
         "49",
         "Flight of the Navigator",
         "1986-07-30",
         "Adventure",
         null,
         "18564613",
         "42183197"
        ]
       ],
       "shape": {
        "columns": 6,
        "rows": 579
       }
      },
      "text/html": [
       "<div>\n",
       "<style scoped>\n",
       "    .dataframe tbody tr th:only-of-type {\n",
       "        vertical-align: middle;\n",
       "    }\n",
       "\n",
       "    .dataframe tbody tr th {\n",
       "        vertical-align: top;\n",
       "    }\n",
       "\n",
       "    .dataframe thead th {\n",
       "        text-align: right;\n",
       "    }\n",
       "</style>\n",
       "<table border=\"1\" class=\"dataframe\">\n",
       "  <thead>\n",
       "    <tr style=\"text-align: right;\">\n",
       "      <th></th>\n",
       "      <th>movie_title</th>\n",
       "      <th>release_date</th>\n",
       "      <th>genre</th>\n",
       "      <th>mpaa_rating</th>\n",
       "      <th>total_gross</th>\n",
       "      <th>inflation_adjusted_gross</th>\n",
       "    </tr>\n",
       "  </thead>\n",
       "  <tbody>\n",
       "    <tr>\n",
       "      <th>0</th>\n",
       "      <td>Snow White and the Seven Dwarfs</td>\n",
       "      <td>1937-12-21</td>\n",
       "      <td>Musical</td>\n",
       "      <td>G</td>\n",
       "      <td>184925485</td>\n",
       "      <td>5228953251</td>\n",
       "    </tr>\n",
       "    <tr>\n",
       "      <th>1</th>\n",
       "      <td>Pinocchio</td>\n",
       "      <td>1940-02-09</td>\n",
       "      <td>Adventure</td>\n",
       "      <td>G</td>\n",
       "      <td>84300000</td>\n",
       "      <td>2188229052</td>\n",
       "    </tr>\n",
       "    <tr>\n",
       "      <th>2</th>\n",
       "      <td>Fantasia</td>\n",
       "      <td>1940-11-13</td>\n",
       "      <td>Musical</td>\n",
       "      <td>G</td>\n",
       "      <td>83320000</td>\n",
       "      <td>2187090808</td>\n",
       "    </tr>\n",
       "    <tr>\n",
       "      <th>3</th>\n",
       "      <td>Song of the South</td>\n",
       "      <td>1946-11-12</td>\n",
       "      <td>Adventure</td>\n",
       "      <td>G</td>\n",
       "      <td>65000000</td>\n",
       "      <td>1078510579</td>\n",
       "    </tr>\n",
       "    <tr>\n",
       "      <th>4</th>\n",
       "      <td>Cinderella</td>\n",
       "      <td>1950-02-15</td>\n",
       "      <td>Drama</td>\n",
       "      <td>G</td>\n",
       "      <td>85000000</td>\n",
       "      <td>920608730</td>\n",
       "    </tr>\n",
       "    <tr>\n",
       "      <th>...</th>\n",
       "      <td>...</td>\n",
       "      <td>...</td>\n",
       "      <td>...</td>\n",
       "      <td>...</td>\n",
       "      <td>...</td>\n",
       "      <td>...</td>\n",
       "    </tr>\n",
       "    <tr>\n",
       "      <th>574</th>\n",
       "      <td>The Light Between Oceans</td>\n",
       "      <td>2016-09-02</td>\n",
       "      <td>Drama</td>\n",
       "      <td>PG-13</td>\n",
       "      <td>12545979</td>\n",
       "      <td>12545979</td>\n",
       "    </tr>\n",
       "    <tr>\n",
       "      <th>575</th>\n",
       "      <td>Queen of Katwe</td>\n",
       "      <td>2016-09-23</td>\n",
       "      <td>Drama</td>\n",
       "      <td>PG</td>\n",
       "      <td>8874389</td>\n",
       "      <td>8874389</td>\n",
       "    </tr>\n",
       "    <tr>\n",
       "      <th>576</th>\n",
       "      <td>Doctor Strange</td>\n",
       "      <td>2016-11-04</td>\n",
       "      <td>Adventure</td>\n",
       "      <td>PG-13</td>\n",
       "      <td>232532923</td>\n",
       "      <td>232532923</td>\n",
       "    </tr>\n",
       "    <tr>\n",
       "      <th>577</th>\n",
       "      <td>Moana</td>\n",
       "      <td>2016-11-23</td>\n",
       "      <td>Adventure</td>\n",
       "      <td>PG</td>\n",
       "      <td>246082029</td>\n",
       "      <td>246082029</td>\n",
       "    </tr>\n",
       "    <tr>\n",
       "      <th>578</th>\n",
       "      <td>Rogue One: A Star Wars Story</td>\n",
       "      <td>2016-12-16</td>\n",
       "      <td>Adventure</td>\n",
       "      <td>PG-13</td>\n",
       "      <td>529483936</td>\n",
       "      <td>529483936</td>\n",
       "    </tr>\n",
       "  </tbody>\n",
       "</table>\n",
       "<p>579 rows × 6 columns</p>\n",
       "</div>"
      ],
      "text/plain": [
       "                         movie_title release_date      genre mpaa_rating  \\\n",
       "0    Snow White and the Seven Dwarfs   1937-12-21    Musical           G   \n",
       "1                          Pinocchio   1940-02-09  Adventure           G   \n",
       "2                           Fantasia   1940-11-13    Musical           G   \n",
       "3                  Song of the South   1946-11-12  Adventure           G   \n",
       "4                         Cinderella   1950-02-15      Drama           G   \n",
       "..                               ...          ...        ...         ...   \n",
       "574         The Light Between Oceans   2016-09-02      Drama       PG-13   \n",
       "575                   Queen of Katwe   2016-09-23      Drama          PG   \n",
       "576                   Doctor Strange   2016-11-04  Adventure       PG-13   \n",
       "577                            Moana   2016-11-23  Adventure          PG   \n",
       "578     Rogue One: A Star Wars Story   2016-12-16  Adventure       PG-13   \n",
       "\n",
       "     total_gross  inflation_adjusted_gross  \n",
       "0      184925485                5228953251  \n",
       "1       84300000                2188229052  \n",
       "2       83320000                2187090808  \n",
       "3       65000000                1078510579  \n",
       "4       85000000                 920608730  \n",
       "..           ...                       ...  \n",
       "574     12545979                  12545979  \n",
       "575      8874389                   8874389  \n",
       "576    232532923                 232532923  \n",
       "577    246082029                 246082029  \n",
       "578    529483936                 529483936  \n",
       "\n",
       "[579 rows x 6 columns]"
      ]
     },
     "execution_count": 132,
     "metadata": {},
     "output_type": "execute_result"
    }
   ],
   "source": [
    "df"
   ]
  },
  {
   "cell_type": "markdown",
   "id": "9c28b785",
   "metadata": {},
   "source": [
    "579 registros, mas existem alguns dados nulos"
   ]
  },
  {
   "cell_type": "markdown",
   "id": "731de822",
   "metadata": {},
   "source": [
    "---"
   ]
  },
  {
   "cell_type": "markdown",
   "id": "8414d035",
   "metadata": {},
   "source": [
    "Alterando o nome das colunas para português"
   ]
  },
  {
   "cell_type": "code",
   "execution_count": 133,
   "id": "53b6fac7",
   "metadata": {},
   "outputs": [],
   "source": [
    "df.rename(columns={'movie_title':'titulo_do_filme', 'release_date':'data_de_lancamento', 'genre':'genero', 'mpaa_rating':'classificacao', 'total_gross': 'lucro', 'inflation_adjusted_gross':'lucro_ajustado_inflacao'}, inplace=True)"
   ]
  },
  {
   "cell_type": "markdown",
   "id": "b6d85eb2",
   "metadata": {},
   "source": [
    "---"
   ]
  },
  {
   "cell_type": "code",
   "execution_count": 134,
   "id": "39936f52",
   "metadata": {},
   "outputs": [
    {
     "name": "stdout",
     "output_type": "stream",
     "text": [
      "<class 'pandas.core.frame.DataFrame'>\n",
      "RangeIndex: 579 entries, 0 to 578\n",
      "Data columns (total 6 columns):\n",
      " #   Column                   Non-Null Count  Dtype \n",
      "---  ------                   --------------  ----- \n",
      " 0   titulo_do_filme          579 non-null    object\n",
      " 1   data_de_lancamento       579 non-null    object\n",
      " 2   genero                   562 non-null    object\n",
      " 3   classificacao            523 non-null    object\n",
      " 4   lucro                    579 non-null    int64 \n",
      " 5   lucro_ajustado_inflacao  579 non-null    int64 \n",
      "dtypes: int64(2), object(4)\n",
      "memory usage: 27.3+ KB\n"
     ]
    }
   ],
   "source": [
    "df.info()"
   ]
  },
  {
   "cell_type": "code",
   "execution_count": 135,
   "id": "f2bb9344",
   "metadata": {},
   "outputs": [],
   "source": [
    "df['data_de_lancamento'] = pd.to_datetime(df['data_de_lancamento'])"
   ]
  },
  {
   "cell_type": "markdown",
   "id": "4d0ce7a1",
   "metadata": {},
   "source": [
    "É possível observar valores nulos na feature genero e classificacao"
   ]
  },
  {
   "cell_type": "code",
   "execution_count": 136,
   "id": "b753ee64",
   "metadata": {},
   "outputs": [
    {
     "data": {
      "text/plain": [
       "array(['Musical', 'Adventure', 'Drama', 'Comedy', nan, 'Action', 'Horror',\n",
       "       'Romantic Comedy', 'Thriller/Suspense', 'Western', 'Black Comedy',\n",
       "       'Documentary', 'Concert/Performance'], dtype=object)"
      ]
     },
     "execution_count": 136,
     "metadata": {},
     "output_type": "execute_result"
    }
   ],
   "source": [
    "df['genero'].unique()"
   ]
  },
  {
   "cell_type": "code",
   "execution_count": 137,
   "id": "7139291b",
   "metadata": {},
   "outputs": [
    {
     "data": {
      "text/plain": [
       "array(['G', nan, 'Not Rated', 'PG', 'R', 'PG-13'], dtype=object)"
      ]
     },
     "execution_count": 137,
     "metadata": {},
     "output_type": "execute_result"
    }
   ],
   "source": [
    "df['classificacao'].unique()"
   ]
  },
  {
   "cell_type": "code",
   "execution_count": 138,
   "id": "78500874",
   "metadata": {},
   "outputs": [
    {
     "data": {
      "application/vnd.microsoft.datawrangler.viewer.v0+json": {
       "columns": [
        {
         "name": "index",
         "rawType": "int64",
         "type": "integer"
        },
        {
         "name": "titulo_do_filme",
         "rawType": "object",
         "type": "string"
        },
        {
         "name": "data_de_lancamento",
         "rawType": "datetime64[ns]",
         "type": "datetime"
        },
        {
         "name": "genero",
         "rawType": "object",
         "type": "string"
        },
        {
         "name": "classificacao",
         "rawType": "object",
         "type": "string"
        },
        {
         "name": "lucro",
         "rawType": "int64",
         "type": "integer"
        },
        {
         "name": "lucro_ajustado_inflacao",
         "rawType": "int64",
         "type": "integer"
        }
       ],
       "conversionMethod": "pd.DataFrame",
       "ref": "10c2186b-f9e5-4cd6-aa38-f1d7d23b1efc",
       "rows": [
        [
         "11",
         "Bon Voyage!",
         "1962-05-17 00:00:00",
         "Comedy",
         "Not Rated",
         "9230769",
         "109581646"
        ],
        [
         "13",
         "The Jungle Book",
         "1967-10-18 00:00:00",
         "Musical",
         "Not Rated",
         "141843000",
         "789612346"
        ],
        [
         "404",
         "America's Heart and Soul",
         "2004-07-02 00:00:00",
         "Documentary",
         "Not Rated",
         "314000",
         "426246"
        ]
       ],
       "shape": {
        "columns": 6,
        "rows": 3
       }
      },
      "text/html": [
       "<div>\n",
       "<style scoped>\n",
       "    .dataframe tbody tr th:only-of-type {\n",
       "        vertical-align: middle;\n",
       "    }\n",
       "\n",
       "    .dataframe tbody tr th {\n",
       "        vertical-align: top;\n",
       "    }\n",
       "\n",
       "    .dataframe thead th {\n",
       "        text-align: right;\n",
       "    }\n",
       "</style>\n",
       "<table border=\"1\" class=\"dataframe\">\n",
       "  <thead>\n",
       "    <tr style=\"text-align: right;\">\n",
       "      <th></th>\n",
       "      <th>titulo_do_filme</th>\n",
       "      <th>data_de_lancamento</th>\n",
       "      <th>genero</th>\n",
       "      <th>classificacao</th>\n",
       "      <th>lucro</th>\n",
       "      <th>lucro_ajustado_inflacao</th>\n",
       "    </tr>\n",
       "  </thead>\n",
       "  <tbody>\n",
       "    <tr>\n",
       "      <th>11</th>\n",
       "      <td>Bon Voyage!</td>\n",
       "      <td>1962-05-17</td>\n",
       "      <td>Comedy</td>\n",
       "      <td>Not Rated</td>\n",
       "      <td>9230769</td>\n",
       "      <td>109581646</td>\n",
       "    </tr>\n",
       "    <tr>\n",
       "      <th>13</th>\n",
       "      <td>The Jungle Book</td>\n",
       "      <td>1967-10-18</td>\n",
       "      <td>Musical</td>\n",
       "      <td>Not Rated</td>\n",
       "      <td>141843000</td>\n",
       "      <td>789612346</td>\n",
       "    </tr>\n",
       "    <tr>\n",
       "      <th>404</th>\n",
       "      <td>America's Heart and Soul</td>\n",
       "      <td>2004-07-02</td>\n",
       "      <td>Documentary</td>\n",
       "      <td>Not Rated</td>\n",
       "      <td>314000</td>\n",
       "      <td>426246</td>\n",
       "    </tr>\n",
       "  </tbody>\n",
       "</table>\n",
       "</div>"
      ],
      "text/plain": [
       "              titulo_do_filme data_de_lancamento       genero classificacao  \\\n",
       "11                Bon Voyage!         1962-05-17       Comedy     Not Rated   \n",
       "13            The Jungle Book         1967-10-18      Musical     Not Rated   \n",
       "404  America's Heart and Soul         2004-07-02  Documentary     Not Rated   \n",
       "\n",
       "         lucro  lucro_ajustado_inflacao  \n",
       "11     9230769                109581646  \n",
       "13   141843000                789612346  \n",
       "404     314000                   426246  "
      ]
     },
     "execution_count": 138,
     "metadata": {},
     "output_type": "execute_result"
    }
   ],
   "source": [
    "df[df['classificacao'] == 'Not Rated']"
   ]
  },
  {
   "cell_type": "code",
   "execution_count": 139,
   "id": "67568d85",
   "metadata": {},
   "outputs": [
    {
     "data": {
      "application/vnd.microsoft.datawrangler.viewer.v0+json": {
       "columns": [
        {
         "name": "index",
         "rawType": "int64",
         "type": "integer"
        },
        {
         "name": "titulo_do_filme",
         "rawType": "object",
         "type": "string"
        },
        {
         "name": "data_de_lancamento",
         "rawType": "datetime64[ns]",
         "type": "datetime"
        },
        {
         "name": "genero",
         "rawType": "object",
         "type": "unknown"
        },
        {
         "name": "classificacao",
         "rawType": "object",
         "type": "unknown"
        },
        {
         "name": "lucro",
         "rawType": "int64",
         "type": "integer"
        },
        {
         "name": "lucro_ajustado_inflacao",
         "rawType": "int64",
         "type": "integer"
        }
       ],
       "conversionMethod": "pd.DataFrame",
       "ref": "a02ad050-5580-4ba4-8b3e-fa0b5f8c4d7d",
       "rows": [
        [
         "5",
         "20,000 Leagues Under the Sea",
         "1954-12-23 00:00:00",
         "Adventure",
         null,
         "28200000",
         "528279994"
        ],
        [
         "7",
         "Sleeping Beauty",
         "1959-01-29 00:00:00",
         "Drama",
         null,
         "9464608",
         "21505832"
        ],
        [
         "9",
         "The Absent Minded Professor",
         "1961-03-16 00:00:00",
         "Comedy",
         null,
         "25381407",
         "310094574"
        ],
        [
         "12",
         "The Sword in the Stone",
         "1963-12-25 00:00:00",
         "Adventure",
         null,
         "22182353",
         "153870834"
        ],
        [
         "14",
         "Blackbeard's Ghost",
         "1968-02-08 00:00:00",
         "Comedy",
         null,
         "21540050",
         "138612686"
        ],
        [
         "16",
         "The Boatniks",
         "1970-07-01 00:00:00",
         "Comedy",
         null,
         "18607492",
         "101200742"
        ],
        [
         "17",
         "Bedknobs and Broomsticks",
         "1971-10-07 00:00:00",
         "Musical",
         null,
         "17871174",
         "91305448"
        ],
        [
         "18",
         "The Apple Dumpling Gang",
         "1975-07-01 00:00:00",
         "Comedy",
         null,
         "31916500",
         "131246872"
        ],
        [
         "19",
         "Freaky Friday",
         "1977-01-21 00:00:00",
         "Comedy",
         null,
         "25942000",
         "98067733"
        ],
        [
         "20",
         "The Many Adventures of Winnie the Pooh",
         "1977-03-11 00:00:00",
         null,
         null,
         "0",
         "0"
        ],
        [
         "21",
         "The Rescuers",
         "1977-06-22 00:00:00",
         "Adventure",
         null,
         "48775599",
         "159743914"
        ],
        [
         "22",
         "Herbie Goes to Monte Carlo",
         "1977-06-24 00:00:00",
         null,
         null,
         "28000000",
         "105847527"
        ],
        [
         "23",
         "The Black Hole",
         "1979-12-21 00:00:00",
         null,
         null,
         "35841901",
         "120377374"
        ],
        [
         "24",
         "Midnight Madness",
         "1980-02-08 00:00:00",
         null,
         null,
         "2900000",
         "9088096"
        ],
        [
         "25",
         "The Last Flight of Noah’s Ark",
         "1980-06-25 00:00:00",
         null,
         null,
         "11000000",
         "34472116"
        ],
        [
         "26",
         "The Devil and Max Devlin",
         "1981-01-01 00:00:00",
         null,
         null,
         "16000000",
         "48517980"
        ],
        [
         "27",
         "Amy",
         "1981-03-20 00:00:00",
         "Drama",
         null,
         "0",
         "0"
        ],
        [
         "28",
         "The Fox and the Hound",
         "1981-07-10 00:00:00",
         "Comedy",
         null,
         "43899231",
         "133118889"
        ],
        [
         "29",
         "Condorman",
         "1981-08-07 00:00:00",
         "Action",
         null,
         "0",
         "0"
        ],
        [
         "30",
         "Night Crossing",
         "1982-02-05 00:00:00",
         "Drama",
         null,
         "4500000",
         "12903059"
        ],
        [
         "31",
         "Tron",
         "1982-07-09 00:00:00",
         "Action",
         null,
         "26918576",
         "77184895"
        ],
        [
         "32",
         "Tex",
         "1982-11-19 00:00:00",
         "Drama",
         null,
         "7199408",
         "20643199"
        ],
        [
         "33",
         "Trenchcoat",
         "1983-03-11 00:00:00",
         "Comedy",
         null,
         "4304286",
         "11519089"
        ],
        [
         "34",
         "Something Wicked This Way Comes",
         "1983-04-29 00:00:00",
         "Horror",
         null,
         "5656087",
         "15136765"
        ],
        [
         "35",
         "Never Cry Wolf",
         "1983-10-07 00:00:00",
         "Drama",
         null,
         "27668764",
         "70669955"
        ],
        [
         "36",
         "Running Brave",
         "1983-11-04 00:00:00",
         "Drama",
         null,
         "1204595",
         "3223725"
        ],
        [
         "38",
         "Country",
         "1984-09-29 00:00:00",
         "Drama",
         null,
         "8400000",
         "21075000"
        ],
        [
         "39",
         "Baby: Secret of the Lost Legend",
         "1985-03-22 00:00:00",
         "Adventure",
         null,
         "14276095",
         "33900697"
        ],
        [
         "40",
         "Return to Oz",
         "1985-06-21 00:00:00",
         "Adventure",
         null,
         "10618813",
         "25215934"
        ],
        [
         "41",
         "The Black Cauldron",
         "1985-07-24 00:00:00",
         "Adventure",
         null,
         "21288692",
         "50553142"
        ],
        [
         "42",
         "My Science Project",
         "1985-08-09 00:00:00",
         "Comedy",
         null,
         "4100000",
         "9736051"
        ],
        [
         "43",
         "The Journey of Natty Gann",
         "1985-09-27 00:00:00",
         "Drama",
         null,
         "9468512",
         "22302956"
        ],
        [
         "44",
         "One Magic Christmas",
         "1985-11-22 00:00:00",
         "Drama",
         null,
         "13229514",
         "31415432"
        ],
        [
         "46",
         "Off Beat",
         "1986-04-11 00:00:00",
         "Comedy",
         null,
         "4842778",
         "11003932"
        ],
        [
         "48",
         "The Great Mouse Detective",
         "1986-07-02 00:00:00",
         "Adventure",
         null,
         "23605534",
         "53637367"
        ],
        [
         "49",
         "Flight of the Navigator",
         "1986-07-30 00:00:00",
         "Adventure",
         null,
         "18564613",
         "42183197"
        ],
        [
         "50",
         "Tough Guys",
         "1986-10-03 00:00:00",
         "Comedy",
         null,
         "21458229",
         "48758184"
        ],
        [
         "53",
         "Tin Men",
         "1987-03-06 00:00:00",
         "Comedy",
         null,
         "25411386",
         "54787202"
        ],
        [
         "54",
         "Ernest Goes to Camp",
         "1987-05-22 00:00:00",
         "Comedy",
         null,
         "23509382",
         "50686462"
        ],
        [
         "55",
         "Benji the Hunted",
         "1987-06-05 00:00:00",
         "Adventure",
         null,
         "15212539",
         "32798382"
        ],
        [
         "56",
         "Adventures in Babysitting",
         "1987-07-03 00:00:00",
         "Comedy",
         null,
         "33790923",
         "72853569"
        ],
        [
         "58",
         "Can't Buy Me Love",
         "1987-08-14 00:00:00",
         "Romantic Comedy",
         null,
         "31623833",
         "68181300"
        ],
        [
         "59",
         "Hello Again",
         "1987-11-06 00:00:00",
         "Comedy",
         null,
         "20419446",
         "44024529"
        ],
        [
         "62",
         "Shoot to Kill",
         "1988-02-12 00:00:00",
         "Action",
         null,
         "29300000",
         "60097074"
        ],
        [
         "63",
         "D.O.A.",
         "1988-03-18 00:00:00",
         "Thriller/Suspense",
         null,
         "12706478",
         "26062188"
        ],
        [
         "68",
         "The Rescue",
         "1988-08-05 00:00:00",
         "Action",
         null,
         "5855392",
         "12009960"
        ],
        [
         "69",
         "Heartbreak Hotel",
         "1988-09-30 00:00:00",
         "Comedy",
         null,
         "5509417",
         "11300331"
        ],
        [
         "70",
         "The Good Mother",
         "1988-11-04 00:00:00",
         "Drama",
         null,
         "4764606",
         "9772655"
        ],
        [
         "76",
         "Disorganized Crime",
         "1989-04-14 00:00:00",
         "Comedy",
         null,
         "7210149",
         "15233465"
        ],
        [
         "80",
         "Cheetah",
         "1989-08-18 00:00:00",
         "Adventure",
         null,
         "7882250",
         "16653473"
        ]
       ],
       "shape": {
        "columns": 6,
        "rows": 56
       }
      },
      "text/html": [
       "<div>\n",
       "<style scoped>\n",
       "    .dataframe tbody tr th:only-of-type {\n",
       "        vertical-align: middle;\n",
       "    }\n",
       "\n",
       "    .dataframe tbody tr th {\n",
       "        vertical-align: top;\n",
       "    }\n",
       "\n",
       "    .dataframe thead th {\n",
       "        text-align: right;\n",
       "    }\n",
       "</style>\n",
       "<table border=\"1\" class=\"dataframe\">\n",
       "  <thead>\n",
       "    <tr style=\"text-align: right;\">\n",
       "      <th></th>\n",
       "      <th>titulo_do_filme</th>\n",
       "      <th>data_de_lancamento</th>\n",
       "      <th>genero</th>\n",
       "      <th>classificacao</th>\n",
       "      <th>lucro</th>\n",
       "      <th>lucro_ajustado_inflacao</th>\n",
       "    </tr>\n",
       "  </thead>\n",
       "  <tbody>\n",
       "    <tr>\n",
       "      <th>5</th>\n",
       "      <td>20,000 Leagues Under the Sea</td>\n",
       "      <td>1954-12-23</td>\n",
       "      <td>Adventure</td>\n",
       "      <td>NaN</td>\n",
       "      <td>28200000</td>\n",
       "      <td>528279994</td>\n",
       "    </tr>\n",
       "    <tr>\n",
       "      <th>7</th>\n",
       "      <td>Sleeping Beauty</td>\n",
       "      <td>1959-01-29</td>\n",
       "      <td>Drama</td>\n",
       "      <td>NaN</td>\n",
       "      <td>9464608</td>\n",
       "      <td>21505832</td>\n",
       "    </tr>\n",
       "    <tr>\n",
       "      <th>9</th>\n",
       "      <td>The Absent Minded Professor</td>\n",
       "      <td>1961-03-16</td>\n",
       "      <td>Comedy</td>\n",
       "      <td>NaN</td>\n",
       "      <td>25381407</td>\n",
       "      <td>310094574</td>\n",
       "    </tr>\n",
       "    <tr>\n",
       "      <th>12</th>\n",
       "      <td>The Sword in the Stone</td>\n",
       "      <td>1963-12-25</td>\n",
       "      <td>Adventure</td>\n",
       "      <td>NaN</td>\n",
       "      <td>22182353</td>\n",
       "      <td>153870834</td>\n",
       "    </tr>\n",
       "    <tr>\n",
       "      <th>14</th>\n",
       "      <td>Blackbeard's Ghost</td>\n",
       "      <td>1968-02-08</td>\n",
       "      <td>Comedy</td>\n",
       "      <td>NaN</td>\n",
       "      <td>21540050</td>\n",
       "      <td>138612686</td>\n",
       "    </tr>\n",
       "    <tr>\n",
       "      <th>16</th>\n",
       "      <td>The Boatniks</td>\n",
       "      <td>1970-07-01</td>\n",
       "      <td>Comedy</td>\n",
       "      <td>NaN</td>\n",
       "      <td>18607492</td>\n",
       "      <td>101200742</td>\n",
       "    </tr>\n",
       "    <tr>\n",
       "      <th>17</th>\n",
       "      <td>Bedknobs and Broomsticks</td>\n",
       "      <td>1971-10-07</td>\n",
       "      <td>Musical</td>\n",
       "      <td>NaN</td>\n",
       "      <td>17871174</td>\n",
       "      <td>91305448</td>\n",
       "    </tr>\n",
       "    <tr>\n",
       "      <th>18</th>\n",
       "      <td>The Apple Dumpling Gang</td>\n",
       "      <td>1975-07-01</td>\n",
       "      <td>Comedy</td>\n",
       "      <td>NaN</td>\n",
       "      <td>31916500</td>\n",
       "      <td>131246872</td>\n",
       "    </tr>\n",
       "    <tr>\n",
       "      <th>19</th>\n",
       "      <td>Freaky Friday</td>\n",
       "      <td>1977-01-21</td>\n",
       "      <td>Comedy</td>\n",
       "      <td>NaN</td>\n",
       "      <td>25942000</td>\n",
       "      <td>98067733</td>\n",
       "    </tr>\n",
       "    <tr>\n",
       "      <th>20</th>\n",
       "      <td>The Many Adventures of Winnie the Pooh</td>\n",
       "      <td>1977-03-11</td>\n",
       "      <td>NaN</td>\n",
       "      <td>NaN</td>\n",
       "      <td>0</td>\n",
       "      <td>0</td>\n",
       "    </tr>\n",
       "    <tr>\n",
       "      <th>21</th>\n",
       "      <td>The Rescuers</td>\n",
       "      <td>1977-06-22</td>\n",
       "      <td>Adventure</td>\n",
       "      <td>NaN</td>\n",
       "      <td>48775599</td>\n",
       "      <td>159743914</td>\n",
       "    </tr>\n",
       "    <tr>\n",
       "      <th>22</th>\n",
       "      <td>Herbie Goes to Monte Carlo</td>\n",
       "      <td>1977-06-24</td>\n",
       "      <td>NaN</td>\n",
       "      <td>NaN</td>\n",
       "      <td>28000000</td>\n",
       "      <td>105847527</td>\n",
       "    </tr>\n",
       "    <tr>\n",
       "      <th>23</th>\n",
       "      <td>The Black Hole</td>\n",
       "      <td>1979-12-21</td>\n",
       "      <td>NaN</td>\n",
       "      <td>NaN</td>\n",
       "      <td>35841901</td>\n",
       "      <td>120377374</td>\n",
       "    </tr>\n",
       "    <tr>\n",
       "      <th>24</th>\n",
       "      <td>Midnight Madness</td>\n",
       "      <td>1980-02-08</td>\n",
       "      <td>NaN</td>\n",
       "      <td>NaN</td>\n",
       "      <td>2900000</td>\n",
       "      <td>9088096</td>\n",
       "    </tr>\n",
       "    <tr>\n",
       "      <th>25</th>\n",
       "      <td>The Last Flight of Noah’s Ark</td>\n",
       "      <td>1980-06-25</td>\n",
       "      <td>NaN</td>\n",
       "      <td>NaN</td>\n",
       "      <td>11000000</td>\n",
       "      <td>34472116</td>\n",
       "    </tr>\n",
       "    <tr>\n",
       "      <th>26</th>\n",
       "      <td>The Devil and Max Devlin</td>\n",
       "      <td>1981-01-01</td>\n",
       "      <td>NaN</td>\n",
       "      <td>NaN</td>\n",
       "      <td>16000000</td>\n",
       "      <td>48517980</td>\n",
       "    </tr>\n",
       "    <tr>\n",
       "      <th>27</th>\n",
       "      <td>Amy</td>\n",
       "      <td>1981-03-20</td>\n",
       "      <td>Drama</td>\n",
       "      <td>NaN</td>\n",
       "      <td>0</td>\n",
       "      <td>0</td>\n",
       "    </tr>\n",
       "    <tr>\n",
       "      <th>28</th>\n",
       "      <td>The Fox and the Hound</td>\n",
       "      <td>1981-07-10</td>\n",
       "      <td>Comedy</td>\n",
       "      <td>NaN</td>\n",
       "      <td>43899231</td>\n",
       "      <td>133118889</td>\n",
       "    </tr>\n",
       "    <tr>\n",
       "      <th>29</th>\n",
       "      <td>Condorman</td>\n",
       "      <td>1981-08-07</td>\n",
       "      <td>Action</td>\n",
       "      <td>NaN</td>\n",
       "      <td>0</td>\n",
       "      <td>0</td>\n",
       "    </tr>\n",
       "    <tr>\n",
       "      <th>30</th>\n",
       "      <td>Night Crossing</td>\n",
       "      <td>1982-02-05</td>\n",
       "      <td>Drama</td>\n",
       "      <td>NaN</td>\n",
       "      <td>4500000</td>\n",
       "      <td>12903059</td>\n",
       "    </tr>\n",
       "    <tr>\n",
       "      <th>31</th>\n",
       "      <td>Tron</td>\n",
       "      <td>1982-07-09</td>\n",
       "      <td>Action</td>\n",
       "      <td>NaN</td>\n",
       "      <td>26918576</td>\n",
       "      <td>77184895</td>\n",
       "    </tr>\n",
       "    <tr>\n",
       "      <th>32</th>\n",
       "      <td>Tex</td>\n",
       "      <td>1982-11-19</td>\n",
       "      <td>Drama</td>\n",
       "      <td>NaN</td>\n",
       "      <td>7199408</td>\n",
       "      <td>20643199</td>\n",
       "    </tr>\n",
       "    <tr>\n",
       "      <th>33</th>\n",
       "      <td>Trenchcoat</td>\n",
       "      <td>1983-03-11</td>\n",
       "      <td>Comedy</td>\n",
       "      <td>NaN</td>\n",
       "      <td>4304286</td>\n",
       "      <td>11519089</td>\n",
       "    </tr>\n",
       "    <tr>\n",
       "      <th>34</th>\n",
       "      <td>Something Wicked This Way Comes</td>\n",
       "      <td>1983-04-29</td>\n",
       "      <td>Horror</td>\n",
       "      <td>NaN</td>\n",
       "      <td>5656087</td>\n",
       "      <td>15136765</td>\n",
       "    </tr>\n",
       "    <tr>\n",
       "      <th>35</th>\n",
       "      <td>Never Cry Wolf</td>\n",
       "      <td>1983-10-07</td>\n",
       "      <td>Drama</td>\n",
       "      <td>NaN</td>\n",
       "      <td>27668764</td>\n",
       "      <td>70669955</td>\n",
       "    </tr>\n",
       "    <tr>\n",
       "      <th>36</th>\n",
       "      <td>Running Brave</td>\n",
       "      <td>1983-11-04</td>\n",
       "      <td>Drama</td>\n",
       "      <td>NaN</td>\n",
       "      <td>1204595</td>\n",
       "      <td>3223725</td>\n",
       "    </tr>\n",
       "    <tr>\n",
       "      <th>38</th>\n",
       "      <td>Country</td>\n",
       "      <td>1984-09-29</td>\n",
       "      <td>Drama</td>\n",
       "      <td>NaN</td>\n",
       "      <td>8400000</td>\n",
       "      <td>21075000</td>\n",
       "    </tr>\n",
       "    <tr>\n",
       "      <th>39</th>\n",
       "      <td>Baby: Secret of the Lost Legend</td>\n",
       "      <td>1985-03-22</td>\n",
       "      <td>Adventure</td>\n",
       "      <td>NaN</td>\n",
       "      <td>14276095</td>\n",
       "      <td>33900697</td>\n",
       "    </tr>\n",
       "    <tr>\n",
       "      <th>40</th>\n",
       "      <td>Return to Oz</td>\n",
       "      <td>1985-06-21</td>\n",
       "      <td>Adventure</td>\n",
       "      <td>NaN</td>\n",
       "      <td>10618813</td>\n",
       "      <td>25215934</td>\n",
       "    </tr>\n",
       "    <tr>\n",
       "      <th>41</th>\n",
       "      <td>The Black Cauldron</td>\n",
       "      <td>1985-07-24</td>\n",
       "      <td>Adventure</td>\n",
       "      <td>NaN</td>\n",
       "      <td>21288692</td>\n",
       "      <td>50553142</td>\n",
       "    </tr>\n",
       "    <tr>\n",
       "      <th>42</th>\n",
       "      <td>My Science Project</td>\n",
       "      <td>1985-08-09</td>\n",
       "      <td>Comedy</td>\n",
       "      <td>NaN</td>\n",
       "      <td>4100000</td>\n",
       "      <td>9736051</td>\n",
       "    </tr>\n",
       "    <tr>\n",
       "      <th>43</th>\n",
       "      <td>The Journey of Natty Gann</td>\n",
       "      <td>1985-09-27</td>\n",
       "      <td>Drama</td>\n",
       "      <td>NaN</td>\n",
       "      <td>9468512</td>\n",
       "      <td>22302956</td>\n",
       "    </tr>\n",
       "    <tr>\n",
       "      <th>44</th>\n",
       "      <td>One Magic Christmas</td>\n",
       "      <td>1985-11-22</td>\n",
       "      <td>Drama</td>\n",
       "      <td>NaN</td>\n",
       "      <td>13229514</td>\n",
       "      <td>31415432</td>\n",
       "    </tr>\n",
       "    <tr>\n",
       "      <th>46</th>\n",
       "      <td>Off Beat</td>\n",
       "      <td>1986-04-11</td>\n",
       "      <td>Comedy</td>\n",
       "      <td>NaN</td>\n",
       "      <td>4842778</td>\n",
       "      <td>11003932</td>\n",
       "    </tr>\n",
       "    <tr>\n",
       "      <th>48</th>\n",
       "      <td>The Great Mouse Detective</td>\n",
       "      <td>1986-07-02</td>\n",
       "      <td>Adventure</td>\n",
       "      <td>NaN</td>\n",
       "      <td>23605534</td>\n",
       "      <td>53637367</td>\n",
       "    </tr>\n",
       "    <tr>\n",
       "      <th>49</th>\n",
       "      <td>Flight of the Navigator</td>\n",
       "      <td>1986-07-30</td>\n",
       "      <td>Adventure</td>\n",
       "      <td>NaN</td>\n",
       "      <td>18564613</td>\n",
       "      <td>42183197</td>\n",
       "    </tr>\n",
       "    <tr>\n",
       "      <th>50</th>\n",
       "      <td>Tough Guys</td>\n",
       "      <td>1986-10-03</td>\n",
       "      <td>Comedy</td>\n",
       "      <td>NaN</td>\n",
       "      <td>21458229</td>\n",
       "      <td>48758184</td>\n",
       "    </tr>\n",
       "    <tr>\n",
       "      <th>53</th>\n",
       "      <td>Tin Men</td>\n",
       "      <td>1987-03-06</td>\n",
       "      <td>Comedy</td>\n",
       "      <td>NaN</td>\n",
       "      <td>25411386</td>\n",
       "      <td>54787202</td>\n",
       "    </tr>\n",
       "    <tr>\n",
       "      <th>54</th>\n",
       "      <td>Ernest Goes to Camp</td>\n",
       "      <td>1987-05-22</td>\n",
       "      <td>Comedy</td>\n",
       "      <td>NaN</td>\n",
       "      <td>23509382</td>\n",
       "      <td>50686462</td>\n",
       "    </tr>\n",
       "    <tr>\n",
       "      <th>55</th>\n",
       "      <td>Benji the Hunted</td>\n",
       "      <td>1987-06-05</td>\n",
       "      <td>Adventure</td>\n",
       "      <td>NaN</td>\n",
       "      <td>15212539</td>\n",
       "      <td>32798382</td>\n",
       "    </tr>\n",
       "    <tr>\n",
       "      <th>56</th>\n",
       "      <td>Adventures in Babysitting</td>\n",
       "      <td>1987-07-03</td>\n",
       "      <td>Comedy</td>\n",
       "      <td>NaN</td>\n",
       "      <td>33790923</td>\n",
       "      <td>72853569</td>\n",
       "    </tr>\n",
       "    <tr>\n",
       "      <th>58</th>\n",
       "      <td>Can't Buy Me Love</td>\n",
       "      <td>1987-08-14</td>\n",
       "      <td>Romantic Comedy</td>\n",
       "      <td>NaN</td>\n",
       "      <td>31623833</td>\n",
       "      <td>68181300</td>\n",
       "    </tr>\n",
       "    <tr>\n",
       "      <th>59</th>\n",
       "      <td>Hello Again</td>\n",
       "      <td>1987-11-06</td>\n",
       "      <td>Comedy</td>\n",
       "      <td>NaN</td>\n",
       "      <td>20419446</td>\n",
       "      <td>44024529</td>\n",
       "    </tr>\n",
       "    <tr>\n",
       "      <th>62</th>\n",
       "      <td>Shoot to Kill</td>\n",
       "      <td>1988-02-12</td>\n",
       "      <td>Action</td>\n",
       "      <td>NaN</td>\n",
       "      <td>29300000</td>\n",
       "      <td>60097074</td>\n",
       "    </tr>\n",
       "    <tr>\n",
       "      <th>63</th>\n",
       "      <td>D.O.A.</td>\n",
       "      <td>1988-03-18</td>\n",
       "      <td>Thriller/Suspense</td>\n",
       "      <td>NaN</td>\n",
       "      <td>12706478</td>\n",
       "      <td>26062188</td>\n",
       "    </tr>\n",
       "    <tr>\n",
       "      <th>68</th>\n",
       "      <td>The Rescue</td>\n",
       "      <td>1988-08-05</td>\n",
       "      <td>Action</td>\n",
       "      <td>NaN</td>\n",
       "      <td>5855392</td>\n",
       "      <td>12009960</td>\n",
       "    </tr>\n",
       "    <tr>\n",
       "      <th>69</th>\n",
       "      <td>Heartbreak Hotel</td>\n",
       "      <td>1988-09-30</td>\n",
       "      <td>Comedy</td>\n",
       "      <td>NaN</td>\n",
       "      <td>5509417</td>\n",
       "      <td>11300331</td>\n",
       "    </tr>\n",
       "    <tr>\n",
       "      <th>70</th>\n",
       "      <td>The Good Mother</td>\n",
       "      <td>1988-11-04</td>\n",
       "      <td>Drama</td>\n",
       "      <td>NaN</td>\n",
       "      <td>4764606</td>\n",
       "      <td>9772655</td>\n",
       "    </tr>\n",
       "    <tr>\n",
       "      <th>76</th>\n",
       "      <td>Disorganized Crime</td>\n",
       "      <td>1989-04-14</td>\n",
       "      <td>Comedy</td>\n",
       "      <td>NaN</td>\n",
       "      <td>7210149</td>\n",
       "      <td>15233465</td>\n",
       "    </tr>\n",
       "    <tr>\n",
       "      <th>80</th>\n",
       "      <td>Cheetah</td>\n",
       "      <td>1989-08-18</td>\n",
       "      <td>Adventure</td>\n",
       "      <td>NaN</td>\n",
       "      <td>7882250</td>\n",
       "      <td>16653473</td>\n",
       "    </tr>\n",
       "    <tr>\n",
       "      <th>86</th>\n",
       "      <td>Where the Heart Is</td>\n",
       "      <td>1990-02-23</td>\n",
       "      <td>Comedy</td>\n",
       "      <td>NaN</td>\n",
       "      <td>1106475</td>\n",
       "      <td>2210321</td>\n",
       "    </tr>\n",
       "    <tr>\n",
       "      <th>101</th>\n",
       "      <td>Scenes from a Mall</td>\n",
       "      <td>1991-02-22</td>\n",
       "      <td>Comedy</td>\n",
       "      <td>NaN</td>\n",
       "      <td>9563393</td>\n",
       "      <td>19149495</td>\n",
       "    </tr>\n",
       "    <tr>\n",
       "      <th>107</th>\n",
       "      <td>Wild Hearts Can't Be Broken</td>\n",
       "      <td>1991-05-24</td>\n",
       "      <td>Drama</td>\n",
       "      <td>NaN</td>\n",
       "      <td>7300000</td>\n",
       "      <td>14617333</td>\n",
       "    </tr>\n",
       "    <tr>\n",
       "      <th>173</th>\n",
       "      <td>Holy Matrimony</td>\n",
       "      <td>1994-04-08</td>\n",
       "      <td>Comedy</td>\n",
       "      <td>NaN</td>\n",
       "      <td>713234</td>\n",
       "      <td>1473665</td>\n",
       "    </tr>\n",
       "    <tr>\n",
       "      <th>185</th>\n",
       "      <td>It's Pat</td>\n",
       "      <td>1994-08-26</td>\n",
       "      <td>Comedy</td>\n",
       "      <td>NaN</td>\n",
       "      <td>60822</td>\n",
       "      <td>125666</td>\n",
       "    </tr>\n",
       "    <tr>\n",
       "      <th>355</th>\n",
       "      <td>Frank McKlusky C.I.</td>\n",
       "      <td>2002-01-01</td>\n",
       "      <td>NaN</td>\n",
       "      <td>NaN</td>\n",
       "      <td>0</td>\n",
       "      <td>0</td>\n",
       "    </tr>\n",
       "  </tbody>\n",
       "</table>\n",
       "</div>"
      ],
      "text/plain": [
       "                            titulo_do_filme data_de_lancamento  \\\n",
       "5              20,000 Leagues Under the Sea         1954-12-23   \n",
       "7                           Sleeping Beauty         1959-01-29   \n",
       "9               The Absent Minded Professor         1961-03-16   \n",
       "12                   The Sword in the Stone         1963-12-25   \n",
       "14                       Blackbeard's Ghost         1968-02-08   \n",
       "16                             The Boatniks         1970-07-01   \n",
       "17                 Bedknobs and Broomsticks         1971-10-07   \n",
       "18                  The Apple Dumpling Gang         1975-07-01   \n",
       "19                            Freaky Friday         1977-01-21   \n",
       "20   The Many Adventures of Winnie the Pooh         1977-03-11   \n",
       "21                             The Rescuers         1977-06-22   \n",
       "22               Herbie Goes to Monte Carlo         1977-06-24   \n",
       "23                           The Black Hole         1979-12-21   \n",
       "24                         Midnight Madness         1980-02-08   \n",
       "25            The Last Flight of Noah’s Ark         1980-06-25   \n",
       "26                 The Devil and Max Devlin         1981-01-01   \n",
       "27                                      Amy         1981-03-20   \n",
       "28                    The Fox and the Hound         1981-07-10   \n",
       "29                                Condorman         1981-08-07   \n",
       "30                           Night Crossing         1982-02-05   \n",
       "31                                     Tron         1982-07-09   \n",
       "32                                      Tex         1982-11-19   \n",
       "33                               Trenchcoat         1983-03-11   \n",
       "34          Something Wicked This Way Comes         1983-04-29   \n",
       "35                           Never Cry Wolf         1983-10-07   \n",
       "36                            Running Brave         1983-11-04   \n",
       "38                                  Country         1984-09-29   \n",
       "39          Baby: Secret of the Lost Legend         1985-03-22   \n",
       "40                             Return to Oz         1985-06-21   \n",
       "41                       The Black Cauldron         1985-07-24   \n",
       "42                       My Science Project         1985-08-09   \n",
       "43                The Journey of Natty Gann         1985-09-27   \n",
       "44                      One Magic Christmas         1985-11-22   \n",
       "46                                 Off Beat         1986-04-11   \n",
       "48                The Great Mouse Detective         1986-07-02   \n",
       "49                  Flight of the Navigator         1986-07-30   \n",
       "50                               Tough Guys         1986-10-03   \n",
       "53                                  Tin Men         1987-03-06   \n",
       "54                      Ernest Goes to Camp         1987-05-22   \n",
       "55                         Benji the Hunted         1987-06-05   \n",
       "56                Adventures in Babysitting         1987-07-03   \n",
       "58                        Can't Buy Me Love         1987-08-14   \n",
       "59                              Hello Again         1987-11-06   \n",
       "62                            Shoot to Kill         1988-02-12   \n",
       "63                                   D.O.A.         1988-03-18   \n",
       "68                               The Rescue         1988-08-05   \n",
       "69                         Heartbreak Hotel         1988-09-30   \n",
       "70                          The Good Mother         1988-11-04   \n",
       "76                       Disorganized Crime         1989-04-14   \n",
       "80                                  Cheetah         1989-08-18   \n",
       "86                       Where the Heart Is         1990-02-23   \n",
       "101                      Scenes from a Mall         1991-02-22   \n",
       "107             Wild Hearts Can't Be Broken         1991-05-24   \n",
       "173                          Holy Matrimony         1994-04-08   \n",
       "185                                It's Pat         1994-08-26   \n",
       "355                     Frank McKlusky C.I.         2002-01-01   \n",
       "\n",
       "                genero classificacao     lucro  lucro_ajustado_inflacao  \n",
       "5            Adventure           NaN  28200000                528279994  \n",
       "7                Drama           NaN   9464608                 21505832  \n",
       "9               Comedy           NaN  25381407                310094574  \n",
       "12           Adventure           NaN  22182353                153870834  \n",
       "14              Comedy           NaN  21540050                138612686  \n",
       "16              Comedy           NaN  18607492                101200742  \n",
       "17             Musical           NaN  17871174                 91305448  \n",
       "18              Comedy           NaN  31916500                131246872  \n",
       "19              Comedy           NaN  25942000                 98067733  \n",
       "20                 NaN           NaN         0                        0  \n",
       "21           Adventure           NaN  48775599                159743914  \n",
       "22                 NaN           NaN  28000000                105847527  \n",
       "23                 NaN           NaN  35841901                120377374  \n",
       "24                 NaN           NaN   2900000                  9088096  \n",
       "25                 NaN           NaN  11000000                 34472116  \n",
       "26                 NaN           NaN  16000000                 48517980  \n",
       "27               Drama           NaN         0                        0  \n",
       "28              Comedy           NaN  43899231                133118889  \n",
       "29              Action           NaN         0                        0  \n",
       "30               Drama           NaN   4500000                 12903059  \n",
       "31              Action           NaN  26918576                 77184895  \n",
       "32               Drama           NaN   7199408                 20643199  \n",
       "33              Comedy           NaN   4304286                 11519089  \n",
       "34              Horror           NaN   5656087                 15136765  \n",
       "35               Drama           NaN  27668764                 70669955  \n",
       "36               Drama           NaN   1204595                  3223725  \n",
       "38               Drama           NaN   8400000                 21075000  \n",
       "39           Adventure           NaN  14276095                 33900697  \n",
       "40           Adventure           NaN  10618813                 25215934  \n",
       "41           Adventure           NaN  21288692                 50553142  \n",
       "42              Comedy           NaN   4100000                  9736051  \n",
       "43               Drama           NaN   9468512                 22302956  \n",
       "44               Drama           NaN  13229514                 31415432  \n",
       "46              Comedy           NaN   4842778                 11003932  \n",
       "48           Adventure           NaN  23605534                 53637367  \n",
       "49           Adventure           NaN  18564613                 42183197  \n",
       "50              Comedy           NaN  21458229                 48758184  \n",
       "53              Comedy           NaN  25411386                 54787202  \n",
       "54              Comedy           NaN  23509382                 50686462  \n",
       "55           Adventure           NaN  15212539                 32798382  \n",
       "56              Comedy           NaN  33790923                 72853569  \n",
       "58     Romantic Comedy           NaN  31623833                 68181300  \n",
       "59              Comedy           NaN  20419446                 44024529  \n",
       "62              Action           NaN  29300000                 60097074  \n",
       "63   Thriller/Suspense           NaN  12706478                 26062188  \n",
       "68              Action           NaN   5855392                 12009960  \n",
       "69              Comedy           NaN   5509417                 11300331  \n",
       "70               Drama           NaN   4764606                  9772655  \n",
       "76              Comedy           NaN   7210149                 15233465  \n",
       "80           Adventure           NaN   7882250                 16653473  \n",
       "86              Comedy           NaN   1106475                  2210321  \n",
       "101             Comedy           NaN   9563393                 19149495  \n",
       "107              Drama           NaN   7300000                 14617333  \n",
       "173             Comedy           NaN    713234                  1473665  \n",
       "185             Comedy           NaN     60822                   125666  \n",
       "355                NaN           NaN         0                        0  "
      ]
     },
     "execution_count": 139,
     "metadata": {},
     "output_type": "execute_result"
    }
   ],
   "source": [
    "df[df['classificacao'].isna()]"
   ]
  },
  {
   "cell_type": "markdown",
   "id": "07a43c60",
   "metadata": {},
   "source": [
    "Verificando se representa muito no lucro, para uma futura analise de qual faixa etária está lucrando mais e qual genero se classifica melhor por faixa etária"
   ]
  },
  {
   "cell_type": "code",
   "execution_count": 140,
   "id": "88e5e2da",
   "metadata": {},
   "outputs": [],
   "source": [
    "soma_total = df['lucro_ajustado_inflacao'].sum()"
   ]
  },
  {
   "cell_type": "code",
   "execution_count": 141,
   "id": "0be8b1fc",
   "metadata": {},
   "outputs": [],
   "source": [
    "soma_nulos = df[df['classificacao'].isna() | df['genero'].isna()]['lucro_ajustado_inflacao'].sum()"
   ]
  },
  {
   "cell_type": "code",
   "execution_count": 142,
   "id": "da6f5610",
   "metadata": {},
   "outputs": [
    {
     "name": "stdout",
     "output_type": "stream",
     "text": [
      "68763500997\n",
      "3307750551\n",
      "65455750446\n",
      "Porcentagem que representa:  4.810328885296736\n"
     ]
    }
   ],
   "source": [
    "print(soma_total)\n",
    "print(soma_nulos)\n",
    "print(soma_total-soma_nulos)\n",
    "print(\"Porcentagem que representa: \" , (soma_nulos / soma_total) * 100)"
   ]
  },
  {
   "cell_type": "code",
   "execution_count": 144,
   "id": "cfe3c3f3",
   "metadata": {},
   "outputs": [
    {
     "data": {
      "application/vnd.microsoft.datawrangler.viewer.v0+json": {
       "columns": [
        {
         "name": "index",
         "rawType": "int64",
         "type": "integer"
        },
        {
         "name": "titulo_do_filme",
         "rawType": "object",
         "type": "string"
        },
        {
         "name": "data_de_lancamento",
         "rawType": "datetime64[ns]",
         "type": "datetime"
        },
        {
         "name": "genero",
         "rawType": "object",
         "type": "string"
        },
        {
         "name": "classificacao",
         "rawType": "object",
         "type": "string"
        },
        {
         "name": "lucro",
         "rawType": "int64",
         "type": "integer"
        },
        {
         "name": "lucro_ajustado_inflacao",
         "rawType": "int64",
         "type": "integer"
        }
       ],
       "conversionMethod": "pd.DataFrame",
       "ref": "4b459008-ce1c-4828-b22a-1d80774e9fc4",
       "rows": [
        [
         "0",
         "Snow White and the Seven Dwarfs",
         "1937-12-21 00:00:00",
         "Musical",
         "G",
         "184925485",
         "5228953251"
        ],
        [
         "1",
         "Pinocchio",
         "1940-02-09 00:00:00",
         "Adventure",
         "G",
         "84300000",
         "2188229052"
        ],
        [
         "2",
         "Fantasia",
         "1940-11-13 00:00:00",
         "Musical",
         "G",
         "83320000",
         "2187090808"
        ],
        [
         "3",
         "Song of the South",
         "1946-11-12 00:00:00",
         "Adventure",
         "G",
         "65000000",
         "1078510579"
        ],
        [
         "4",
         "Cinderella",
         "1950-02-15 00:00:00",
         "Drama",
         "G",
         "85000000",
         "920608730"
        ],
        [
         "5",
         "20,000 Leagues Under the Sea",
         "1954-12-23 00:00:00",
         "Adventure",
         "Not Rated",
         "28200000",
         "528279994"
        ],
        [
         "6",
         "Lady and the Tramp",
         "1955-06-22 00:00:00",
         "Drama",
         "G",
         "93600000",
         "1236035515"
        ],
        [
         "7",
         "Sleeping Beauty",
         "1959-01-29 00:00:00",
         "Drama",
         "Not Rated",
         "9464608",
         "21505832"
        ],
        [
         "8",
         "101 Dalmatians",
         "1961-01-25 00:00:00",
         "Comedy",
         "G",
         "153000000",
         "1362870985"
        ],
        [
         "9",
         "The Absent Minded Professor",
         "1961-03-16 00:00:00",
         "Comedy",
         "Not Rated",
         "25381407",
         "310094574"
        ],
        [
         "10",
         "Babes in Toyland",
         "1961-12-14 00:00:00",
         "Musical",
         "G",
         "10218316",
         "124841160"
        ],
        [
         "11",
         "Bon Voyage!",
         "1962-05-17 00:00:00",
         "Comedy",
         "Not Rated",
         "9230769",
         "109581646"
        ],
        [
         "12",
         "The Sword in the Stone",
         "1963-12-25 00:00:00",
         "Adventure",
         "Not Rated",
         "22182353",
         "153870834"
        ],
        [
         "13",
         "The Jungle Book",
         "1967-10-18 00:00:00",
         "Musical",
         "Not Rated",
         "141843000",
         "789612346"
        ],
        [
         "14",
         "Blackbeard's Ghost",
         "1968-02-08 00:00:00",
         "Comedy",
         "Not Rated",
         "21540050",
         "138612686"
        ],
        [
         "15",
         "The Aristocats",
         "1970-04-24 00:00:00",
         "Musical",
         "G",
         "55675257",
         "255161499"
        ],
        [
         "16",
         "The Boatniks",
         "1970-07-01 00:00:00",
         "Comedy",
         "Not Rated",
         "18607492",
         "101200742"
        ],
        [
         "17",
         "Bedknobs and Broomsticks",
         "1971-10-07 00:00:00",
         "Musical",
         "Not Rated",
         "17871174",
         "91305448"
        ],
        [
         "18",
         "The Apple Dumpling Gang",
         "1975-07-01 00:00:00",
         "Comedy",
         "Not Rated",
         "31916500",
         "131246872"
        ],
        [
         "19",
         "Freaky Friday",
         "1977-01-21 00:00:00",
         "Comedy",
         "Not Rated",
         "25942000",
         "98067733"
        ],
        [
         "20",
         "The Many Adventures of Winnie the Pooh",
         "1977-03-11 00:00:00",
         "Not Rated",
         "Not Rated",
         "0",
         "0"
        ],
        [
         "21",
         "The Rescuers",
         "1977-06-22 00:00:00",
         "Adventure",
         "Not Rated",
         "48775599",
         "159743914"
        ],
        [
         "22",
         "Herbie Goes to Monte Carlo",
         "1977-06-24 00:00:00",
         "Not Rated",
         "Not Rated",
         "28000000",
         "105847527"
        ],
        [
         "23",
         "The Black Hole",
         "1979-12-21 00:00:00",
         "Not Rated",
         "Not Rated",
         "35841901",
         "120377374"
        ],
        [
         "24",
         "Midnight Madness",
         "1980-02-08 00:00:00",
         "Not Rated",
         "Not Rated",
         "2900000",
         "9088096"
        ],
        [
         "25",
         "The Last Flight of Noah’s Ark",
         "1980-06-25 00:00:00",
         "Not Rated",
         "Not Rated",
         "11000000",
         "34472116"
        ],
        [
         "26",
         "The Devil and Max Devlin",
         "1981-01-01 00:00:00",
         "Not Rated",
         "Not Rated",
         "16000000",
         "48517980"
        ],
        [
         "27",
         "Amy",
         "1981-03-20 00:00:00",
         "Drama",
         "Not Rated",
         "0",
         "0"
        ],
        [
         "28",
         "The Fox and the Hound",
         "1981-07-10 00:00:00",
         "Comedy",
         "Not Rated",
         "43899231",
         "133118889"
        ],
        [
         "29",
         "Condorman",
         "1981-08-07 00:00:00",
         "Action",
         "Not Rated",
         "0",
         "0"
        ],
        [
         "30",
         "Night Crossing",
         "1982-02-05 00:00:00",
         "Drama",
         "Not Rated",
         "4500000",
         "12903059"
        ],
        [
         "31",
         "Tron",
         "1982-07-09 00:00:00",
         "Action",
         "Not Rated",
         "26918576",
         "77184895"
        ],
        [
         "32",
         "Tex",
         "1982-11-19 00:00:00",
         "Drama",
         "Not Rated",
         "7199408",
         "20643199"
        ],
        [
         "33",
         "Trenchcoat",
         "1983-03-11 00:00:00",
         "Comedy",
         "Not Rated",
         "4304286",
         "11519089"
        ],
        [
         "34",
         "Something Wicked This Way Comes",
         "1983-04-29 00:00:00",
         "Horror",
         "Not Rated",
         "5656087",
         "15136765"
        ],
        [
         "35",
         "Never Cry Wolf",
         "1983-10-07 00:00:00",
         "Drama",
         "Not Rated",
         "27668764",
         "70669955"
        ],
        [
         "36",
         "Running Brave",
         "1983-11-04 00:00:00",
         "Drama",
         "Not Rated",
         "1204595",
         "3223725"
        ],
        [
         "37",
         "Splash",
         "1984-03-09 00:00:00",
         "Comedy",
         "PG",
         "62599495",
         "157057661"
        ],
        [
         "38",
         "Country",
         "1984-09-29 00:00:00",
         "Drama",
         "Not Rated",
         "8400000",
         "21075000"
        ],
        [
         "39",
         "Baby: Secret of the Lost Legend",
         "1985-03-22 00:00:00",
         "Adventure",
         "Not Rated",
         "14276095",
         "33900697"
        ],
        [
         "40",
         "Return to Oz",
         "1985-06-21 00:00:00",
         "Adventure",
         "Not Rated",
         "10618813",
         "25215934"
        ],
        [
         "41",
         "The Black Cauldron",
         "1985-07-24 00:00:00",
         "Adventure",
         "Not Rated",
         "21288692",
         "50553142"
        ],
        [
         "42",
         "My Science Project",
         "1985-08-09 00:00:00",
         "Comedy",
         "Not Rated",
         "4100000",
         "9736051"
        ],
        [
         "43",
         "The Journey of Natty Gann",
         "1985-09-27 00:00:00",
         "Drama",
         "Not Rated",
         "9468512",
         "22302956"
        ],
        [
         "44",
         "One Magic Christmas",
         "1985-11-22 00:00:00",
         "Drama",
         "Not Rated",
         "13229514",
         "31415432"
        ],
        [
         "45",
         "Down and Out in Beverly Hills",
         "1986-01-31 00:00:00",
         "Comedy",
         "R",
         "62134225",
         "141183693"
        ],
        [
         "46",
         "Off Beat",
         "1986-04-11 00:00:00",
         "Comedy",
         "Not Rated",
         "4842778",
         "11003932"
        ],
        [
         "47",
         "Ruthless People",
         "1986-06-27 00:00:00",
         "Comedy",
         "R",
         "71624879",
         "162748712"
        ],
        [
         "48",
         "The Great Mouse Detective",
         "1986-07-02 00:00:00",
         "Adventure",
         "Not Rated",
         "23605534",
         "53637367"
        ],
        [
         "49",
         "Flight of the Navigator",
         "1986-07-30 00:00:00",
         "Adventure",
         "Not Rated",
         "18564613",
         "42183197"
        ]
       ],
       "shape": {
        "columns": 6,
        "rows": 579
       }
      },
      "text/html": [
       "<div>\n",
       "<style scoped>\n",
       "    .dataframe tbody tr th:only-of-type {\n",
       "        vertical-align: middle;\n",
       "    }\n",
       "\n",
       "    .dataframe tbody tr th {\n",
       "        vertical-align: top;\n",
       "    }\n",
       "\n",
       "    .dataframe thead th {\n",
       "        text-align: right;\n",
       "    }\n",
       "</style>\n",
       "<table border=\"1\" class=\"dataframe\">\n",
       "  <thead>\n",
       "    <tr style=\"text-align: right;\">\n",
       "      <th></th>\n",
       "      <th>titulo_do_filme</th>\n",
       "      <th>data_de_lancamento</th>\n",
       "      <th>genero</th>\n",
       "      <th>classificacao</th>\n",
       "      <th>lucro</th>\n",
       "      <th>lucro_ajustado_inflacao</th>\n",
       "    </tr>\n",
       "  </thead>\n",
       "  <tbody>\n",
       "    <tr>\n",
       "      <th>0</th>\n",
       "      <td>Snow White and the Seven Dwarfs</td>\n",
       "      <td>1937-12-21</td>\n",
       "      <td>Musical</td>\n",
       "      <td>G</td>\n",
       "      <td>184925485</td>\n",
       "      <td>5228953251</td>\n",
       "    </tr>\n",
       "    <tr>\n",
       "      <th>1</th>\n",
       "      <td>Pinocchio</td>\n",
       "      <td>1940-02-09</td>\n",
       "      <td>Adventure</td>\n",
       "      <td>G</td>\n",
       "      <td>84300000</td>\n",
       "      <td>2188229052</td>\n",
       "    </tr>\n",
       "    <tr>\n",
       "      <th>2</th>\n",
       "      <td>Fantasia</td>\n",
       "      <td>1940-11-13</td>\n",
       "      <td>Musical</td>\n",
       "      <td>G</td>\n",
       "      <td>83320000</td>\n",
       "      <td>2187090808</td>\n",
       "    </tr>\n",
       "    <tr>\n",
       "      <th>3</th>\n",
       "      <td>Song of the South</td>\n",
       "      <td>1946-11-12</td>\n",
       "      <td>Adventure</td>\n",
       "      <td>G</td>\n",
       "      <td>65000000</td>\n",
       "      <td>1078510579</td>\n",
       "    </tr>\n",
       "    <tr>\n",
       "      <th>4</th>\n",
       "      <td>Cinderella</td>\n",
       "      <td>1950-02-15</td>\n",
       "      <td>Drama</td>\n",
       "      <td>G</td>\n",
       "      <td>85000000</td>\n",
       "      <td>920608730</td>\n",
       "    </tr>\n",
       "    <tr>\n",
       "      <th>...</th>\n",
       "      <td>...</td>\n",
       "      <td>...</td>\n",
       "      <td>...</td>\n",
       "      <td>...</td>\n",
       "      <td>...</td>\n",
       "      <td>...</td>\n",
       "    </tr>\n",
       "    <tr>\n",
       "      <th>574</th>\n",
       "      <td>The Light Between Oceans</td>\n",
       "      <td>2016-09-02</td>\n",
       "      <td>Drama</td>\n",
       "      <td>PG-13</td>\n",
       "      <td>12545979</td>\n",
       "      <td>12545979</td>\n",
       "    </tr>\n",
       "    <tr>\n",
       "      <th>575</th>\n",
       "      <td>Queen of Katwe</td>\n",
       "      <td>2016-09-23</td>\n",
       "      <td>Drama</td>\n",
       "      <td>PG</td>\n",
       "      <td>8874389</td>\n",
       "      <td>8874389</td>\n",
       "    </tr>\n",
       "    <tr>\n",
       "      <th>576</th>\n",
       "      <td>Doctor Strange</td>\n",
       "      <td>2016-11-04</td>\n",
       "      <td>Adventure</td>\n",
       "      <td>PG-13</td>\n",
       "      <td>232532923</td>\n",
       "      <td>232532923</td>\n",
       "    </tr>\n",
       "    <tr>\n",
       "      <th>577</th>\n",
       "      <td>Moana</td>\n",
       "      <td>2016-11-23</td>\n",
       "      <td>Adventure</td>\n",
       "      <td>PG</td>\n",
       "      <td>246082029</td>\n",
       "      <td>246082029</td>\n",
       "    </tr>\n",
       "    <tr>\n",
       "      <th>578</th>\n",
       "      <td>Rogue One: A Star Wars Story</td>\n",
       "      <td>2016-12-16</td>\n",
       "      <td>Adventure</td>\n",
       "      <td>PG-13</td>\n",
       "      <td>529483936</td>\n",
       "      <td>529483936</td>\n",
       "    </tr>\n",
       "  </tbody>\n",
       "</table>\n",
       "<p>579 rows × 6 columns</p>\n",
       "</div>"
      ],
      "text/plain": [
       "                     titulo_do_filme data_de_lancamento     genero  \\\n",
       "0    Snow White and the Seven Dwarfs         1937-12-21    Musical   \n",
       "1                          Pinocchio         1940-02-09  Adventure   \n",
       "2                           Fantasia         1940-11-13    Musical   \n",
       "3                  Song of the South         1946-11-12  Adventure   \n",
       "4                         Cinderella         1950-02-15      Drama   \n",
       "..                               ...                ...        ...   \n",
       "574         The Light Between Oceans         2016-09-02      Drama   \n",
       "575                   Queen of Katwe         2016-09-23      Drama   \n",
       "576                   Doctor Strange         2016-11-04  Adventure   \n",
       "577                            Moana         2016-11-23  Adventure   \n",
       "578     Rogue One: A Star Wars Story         2016-12-16  Adventure   \n",
       "\n",
       "    classificacao      lucro  lucro_ajustado_inflacao  \n",
       "0               G  184925485               5228953251  \n",
       "1               G   84300000               2188229052  \n",
       "2               G   83320000               2187090808  \n",
       "3               G   65000000               1078510579  \n",
       "4               G   85000000                920608730  \n",
       "..            ...        ...                      ...  \n",
       "574         PG-13   12545979                 12545979  \n",
       "575            PG    8874389                  8874389  \n",
       "576         PG-13  232532923                232532923  \n",
       "577            PG  246082029                246082029  \n",
       "578         PG-13  529483936                529483936  \n",
       "\n",
       "[579 rows x 6 columns]"
      ]
     },
     "execution_count": 144,
     "metadata": {},
     "output_type": "execute_result"
    }
   ],
   "source": [
    "df['classificacao'].fillna('Not Rated')\n",
    "df['genero'].fillna('Not Rated')\n",
    "\n",
    "df"
   ]
  },
  {
   "cell_type": "code",
   "execution_count": 145,
   "id": "84bfa04a",
   "metadata": {},
   "outputs": [
    {
     "name": "stdout",
     "output_type": "stream",
     "text": [
      "<class 'pandas.core.frame.DataFrame'>\n",
      "RangeIndex: 579 entries, 0 to 578\n",
      "Data columns (total 6 columns):\n",
      " #   Column                   Non-Null Count  Dtype         \n",
      "---  ------                   --------------  -----         \n",
      " 0   titulo_do_filme          579 non-null    object        \n",
      " 1   data_de_lancamento       579 non-null    datetime64[ns]\n",
      " 2   genero                   579 non-null    object        \n",
      " 3   classificacao            579 non-null    object        \n",
      " 4   lucro                    579 non-null    int64         \n",
      " 5   lucro_ajustado_inflacao  579 non-null    int64         \n",
      "dtypes: datetime64[ns](1), int64(2), object(3)\n",
      "memory usage: 27.3+ KB\n"
     ]
    }
   ],
   "source": [
    "df.info()"
   ]
  },
  {
   "cell_type": "code",
   "execution_count": 147,
   "id": "df05b1f2",
   "metadata": {},
   "outputs": [
    {
     "data": {
      "text/plain": [
       "count             579.00\n",
       "mean      118,762,523.31\n",
       "std       286,085,280.04\n",
       "min                 0.00\n",
       "25%        22,741,232.00\n",
       "50%        55,159,783.00\n",
       "75%       119,202,000.00\n",
       "max     5,228,953,251.00\n",
       "Name: lucro_ajustado_inflacao, dtype: float64"
      ]
     },
     "execution_count": 147,
     "metadata": {},
     "output_type": "execute_result"
    }
   ],
   "source": [
    "pd.set_option('display.float_format', '{:,.2f}'.format)\n",
    "df['lucro_ajustado_inflacao'].describe()"
   ]
  },
  {
   "cell_type": "code",
   "execution_count": 148,
   "id": "9fa85c50",
   "metadata": {},
   "outputs": [],
   "source": [
    "pd.reset_option('display.float_format')"
   ]
  },
  {
   "cell_type": "markdown",
   "id": "ab93da8c",
   "metadata": {},
   "source": [
    "Desvio padrao está extremamante alto, e analisando o mínimo e o máximo é possível observar uma discrepância entre eles. \n",
    "\n",
    "Desvio Padrão: 286 milhões\n",
    "Mínimo de lucro: 0\n",
    "Máximo de lucro: 5.2 bilhões\n",
    "\n",
    "Com isso, existem filmes que puxam a média para cima."
   ]
  },
  {
   "cell_type": "markdown",
   "id": "3c85b568",
   "metadata": {},
   "source": [
    "Filme acima da média"
   ]
  },
  {
   "cell_type": "code",
   "execution_count": 149,
   "id": "638da0d1",
   "metadata": {},
   "outputs": [
    {
     "data": {
      "application/vnd.microsoft.datawrangler.viewer.v0+json": {
       "columns": [
        {
         "name": "index",
         "rawType": "int64",
         "type": "integer"
        },
        {
         "name": "titulo_do_filme",
         "rawType": "object",
         "type": "string"
        },
        {
         "name": "data_de_lancamento",
         "rawType": "datetime64[ns]",
         "type": "datetime"
        },
        {
         "name": "genero",
         "rawType": "object",
         "type": "string"
        },
        {
         "name": "classificacao",
         "rawType": "object",
         "type": "string"
        },
        {
         "name": "lucro",
         "rawType": "int64",
         "type": "integer"
        },
        {
         "name": "lucro_ajustado_inflacao",
         "rawType": "int64",
         "type": "integer"
        }
       ],
       "conversionMethod": "pd.DataFrame",
       "ref": "1da656da-19f5-4470-b863-a3fb669c9ca8",
       "rows": [
        [
         "0",
         "Snow White and the Seven Dwarfs",
         "1937-12-21 00:00:00",
         "Musical",
         "G",
         "184925485",
         "5228953251"
        ],
        [
         "1",
         "Pinocchio",
         "1940-02-09 00:00:00",
         "Adventure",
         "G",
         "84300000",
         "2188229052"
        ],
        [
         "2",
         "Fantasia",
         "1940-11-13 00:00:00",
         "Musical",
         "G",
         "83320000",
         "2187090808"
        ],
        [
         "3",
         "Song of the South",
         "1946-11-12 00:00:00",
         "Adventure",
         "G",
         "65000000",
         "1078510579"
        ],
        [
         "4",
         "Cinderella",
         "1950-02-15 00:00:00",
         "Drama",
         "G",
         "85000000",
         "920608730"
        ],
        [
         "5",
         "20,000 Leagues Under the Sea",
         "1954-12-23 00:00:00",
         "Adventure",
         "Not Rated",
         "28200000",
         "528279994"
        ],
        [
         "6",
         "Lady and the Tramp",
         "1955-06-22 00:00:00",
         "Drama",
         "G",
         "93600000",
         "1236035515"
        ],
        [
         "8",
         "101 Dalmatians",
         "1961-01-25 00:00:00",
         "Comedy",
         "G",
         "153000000",
         "1362870985"
        ],
        [
         "9",
         "The Absent Minded Professor",
         "1961-03-16 00:00:00",
         "Comedy",
         "Not Rated",
         "25381407",
         "310094574"
        ],
        [
         "10",
         "Babes in Toyland",
         "1961-12-14 00:00:00",
         "Musical",
         "G",
         "10218316",
         "124841160"
        ],
        [
         "12",
         "The Sword in the Stone",
         "1963-12-25 00:00:00",
         "Adventure",
         "Not Rated",
         "22182353",
         "153870834"
        ],
        [
         "13",
         "The Jungle Book",
         "1967-10-18 00:00:00",
         "Musical",
         "Not Rated",
         "141843000",
         "789612346"
        ],
        [
         "14",
         "Blackbeard's Ghost",
         "1968-02-08 00:00:00",
         "Comedy",
         "Not Rated",
         "21540050",
         "138612686"
        ],
        [
         "15",
         "The Aristocats",
         "1970-04-24 00:00:00",
         "Musical",
         "G",
         "55675257",
         "255161499"
        ],
        [
         "18",
         "The Apple Dumpling Gang",
         "1975-07-01 00:00:00",
         "Comedy",
         "Not Rated",
         "31916500",
         "131246872"
        ],
        [
         "21",
         "The Rescuers",
         "1977-06-22 00:00:00",
         "Adventure",
         "Not Rated",
         "48775599",
         "159743914"
        ],
        [
         "23",
         "The Black Hole",
         "1979-12-21 00:00:00",
         "Not Rated",
         "Not Rated",
         "35841901",
         "120377374"
        ],
        [
         "28",
         "The Fox and the Hound",
         "1981-07-10 00:00:00",
         "Comedy",
         "Not Rated",
         "43899231",
         "133118889"
        ],
        [
         "37",
         "Splash",
         "1984-03-09 00:00:00",
         "Comedy",
         "PG",
         "62599495",
         "157057661"
        ],
        [
         "45",
         "Down and Out in Beverly Hills",
         "1986-01-31 00:00:00",
         "Comedy",
         "R",
         "62134225",
         "141183693"
        ],
        [
         "47",
         "Ruthless People",
         "1986-06-27 00:00:00",
         "Comedy",
         "R",
         "71624879",
         "162748712"
        ],
        [
         "57",
         "Stakeout",
         "1987-08-05 00:00:00",
         "Comedy",
         "R",
         "65673233",
         "141592160"
        ],
        [
         "60",
         "3 Men and a Baby",
         "1987-11-25 00:00:00",
         "Comedy",
         "PG",
         "167780960",
         "353334607"
        ],
        [
         "61",
         "Good Morning Vietnam",
         "1987-12-23 00:00:00",
         "Comedy",
         "R",
         "123922370",
         "254414837"
        ],
        [
         "66",
         "Who Framed Roger Rabbit?",
         "1988-06-22 00:00:00",
         "Comedy",
         "PG",
         "154112492",
         "316250084"
        ],
        [
         "67",
         "Cocktail",
         "1988-07-29 00:00:00",
         "Drama",
         "R",
         "78222753",
         "160442289"
        ],
        [
         "73",
         "Beaches",
         "1988-12-21 00:00:00",
         "Drama",
         "PG-13",
         "57041866",
         "120381757"
        ],
        [
         "77",
         "Dead Poets Society",
         "1989-06-02 00:00:00",
         "Drama",
         "PG",
         "95860116",
         "202531517"
        ],
        [
         "78",
         "Honey, I Shrunk the Kids",
         "1989-06-23 00:00:00",
         "Adventure",
         "PG",
         "130724172",
         "276191669"
        ],
        [
         "79",
         "Turner & Hooch",
         "1989-07-28 00:00:00",
         "Comedy",
         "PG",
         "71079915",
         "150176361"
        ],
        [
         "83",
         "The Little Mermaid",
         "1989-11-15 00:00:00",
         "Adventure",
         "G",
         "111543479",
         "223726012"
        ],
        [
         "87",
         "Pretty Woman",
         "1990-03-23 00:00:00",
         "Romantic Comedy",
         "R",
         "178406268",
         "356389765"
        ],
        [
         "91",
         "Dick Tracy",
         "1990-06-15 00:00:00",
         "Action",
         "PG",
         "103738726",
         "207231621"
        ],
        [
         "98",
         "3 Men and a Little Lady",
         "1990-11-21 00:00:00",
         "Comedy",
         "PG",
         "71609321",
         "143108869"
        ],
        [
         "106",
         "What About Bob?",
         "1991-05-17 00:00:00",
         "Comedy",
         "PG",
         "63710000",
         "127571325"
        ],
        [
         "114",
         "Beauty and the Beast",
         "1991-11-13 00:00:00",
         "Musical",
         "G",
         "218951625",
         "363017667"
        ],
        [
         "115",
         "Father of the Bride",
         "1991-12-20 00:00:00",
         "Comedy",
         "PG",
         "89325780",
         "179821881"
        ],
        [
         "116",
         "The Hand That Rocks the Cradle",
         "1992-01-10 00:00:00",
         "Thriller/Suspense",
         "R",
         "88036683",
         "178831137"
        ],
        [
         "124",
         "Sister Act",
         "1992-05-29 00:00:00",
         "Comedy",
         "PG",
         "139605150",
         "283583472"
        ],
        [
         "125",
         "Honey I Blew Up the Kid",
         "1992-07-17 00:00:00",
         "Comedy",
         "PG",
         "58662452",
         "119162518"
        ],
        [
         "135",
         "Aladdin",
         "1992-11-11 00:00:00",
         "Comedy",
         "G",
         "217350219",
         "441969178"
        ],
        [
         "160",
         "Cool Runnings",
         "1993-10-01 00:00:00",
         "Comedy",
         "PG",
         "68856263",
         "140392731"
        ],
        [
         "179",
         "The Lion King",
         "1994-06-15 00:00:00",
         "Adventure",
         "G",
         "422780140",
         "761640898"
        ],
        [
         "192",
         "The Santa Clause",
         "1994-11-11 00:00:00",
         "Comedy",
         "PG",
         "144833357",
         "298369717"
        ],
        [
         "207",
         "While You Were Sleeping",
         "1995-04-21 00:00:00",
         "Romantic Comedy",
         "PG",
         "81057016",
         "157082900"
        ],
        [
         "208",
         "Crimson Tide",
         "1995-05-12 00:00:00",
         "Action",
         "R",
         "91387195",
         "177102077"
        ],
        [
         "210",
         "Pocahontas",
         "1995-06-10 00:00:00",
         "Adventure",
         "G",
         "141579773",
         "274370957"
        ],
        [
         "213",
         "Dangerous Minds",
         "1995-08-11 00:00:00",
         "Drama",
         "R",
         "84919401",
         "164552293"
        ],
        [
         "222",
         "Toy Story",
         "1995-11-22 00:00:00",
         "Adventure",
         "G",
         "191796233",
         "370409631"
        ],
        [
         "223",
         "Father of the Bride Part II",
         "1995-12-08 00:00:00",
         "Comedy",
         "PG",
         "76578911",
         "147658438"
        ]
       ],
       "shape": {
        "columns": 6,
        "rows": 147
       }
      },
      "text/html": [
       "<div>\n",
       "<style scoped>\n",
       "    .dataframe tbody tr th:only-of-type {\n",
       "        vertical-align: middle;\n",
       "    }\n",
       "\n",
       "    .dataframe tbody tr th {\n",
       "        vertical-align: top;\n",
       "    }\n",
       "\n",
       "    .dataframe thead th {\n",
       "        text-align: right;\n",
       "    }\n",
       "</style>\n",
       "<table border=\"1\" class=\"dataframe\">\n",
       "  <thead>\n",
       "    <tr style=\"text-align: right;\">\n",
       "      <th></th>\n",
       "      <th>titulo_do_filme</th>\n",
       "      <th>data_de_lancamento</th>\n",
       "      <th>genero</th>\n",
       "      <th>classificacao</th>\n",
       "      <th>lucro</th>\n",
       "      <th>lucro_ajustado_inflacao</th>\n",
       "    </tr>\n",
       "  </thead>\n",
       "  <tbody>\n",
       "    <tr>\n",
       "      <th>0</th>\n",
       "      <td>Snow White and the Seven Dwarfs</td>\n",
       "      <td>1937-12-21</td>\n",
       "      <td>Musical</td>\n",
       "      <td>G</td>\n",
       "      <td>184925485</td>\n",
       "      <td>5228953251</td>\n",
       "    </tr>\n",
       "    <tr>\n",
       "      <th>1</th>\n",
       "      <td>Pinocchio</td>\n",
       "      <td>1940-02-09</td>\n",
       "      <td>Adventure</td>\n",
       "      <td>G</td>\n",
       "      <td>84300000</td>\n",
       "      <td>2188229052</td>\n",
       "    </tr>\n",
       "    <tr>\n",
       "      <th>2</th>\n",
       "      <td>Fantasia</td>\n",
       "      <td>1940-11-13</td>\n",
       "      <td>Musical</td>\n",
       "      <td>G</td>\n",
       "      <td>83320000</td>\n",
       "      <td>2187090808</td>\n",
       "    </tr>\n",
       "    <tr>\n",
       "      <th>3</th>\n",
       "      <td>Song of the South</td>\n",
       "      <td>1946-11-12</td>\n",
       "      <td>Adventure</td>\n",
       "      <td>G</td>\n",
       "      <td>65000000</td>\n",
       "      <td>1078510579</td>\n",
       "    </tr>\n",
       "    <tr>\n",
       "      <th>4</th>\n",
       "      <td>Cinderella</td>\n",
       "      <td>1950-02-15</td>\n",
       "      <td>Drama</td>\n",
       "      <td>G</td>\n",
       "      <td>85000000</td>\n",
       "      <td>920608730</td>\n",
       "    </tr>\n",
       "    <tr>\n",
       "      <th>...</th>\n",
       "      <td>...</td>\n",
       "      <td>...</td>\n",
       "      <td>...</td>\n",
       "      <td>...</td>\n",
       "      <td>...</td>\n",
       "      <td>...</td>\n",
       "    </tr>\n",
       "    <tr>\n",
       "      <th>569</th>\n",
       "      <td>Captain America: Civil War</td>\n",
       "      <td>2016-05-06</td>\n",
       "      <td>Action</td>\n",
       "      <td>PG-13</td>\n",
       "      <td>408084349</td>\n",
       "      <td>408084349</td>\n",
       "    </tr>\n",
       "    <tr>\n",
       "      <th>571</th>\n",
       "      <td>Finding Dory</td>\n",
       "      <td>2016-06-17</td>\n",
       "      <td>Adventure</td>\n",
       "      <td>PG</td>\n",
       "      <td>486295561</td>\n",
       "      <td>486295561</td>\n",
       "    </tr>\n",
       "    <tr>\n",
       "      <th>576</th>\n",
       "      <td>Doctor Strange</td>\n",
       "      <td>2016-11-04</td>\n",
       "      <td>Adventure</td>\n",
       "      <td>PG-13</td>\n",
       "      <td>232532923</td>\n",
       "      <td>232532923</td>\n",
       "    </tr>\n",
       "    <tr>\n",
       "      <th>577</th>\n",
       "      <td>Moana</td>\n",
       "      <td>2016-11-23</td>\n",
       "      <td>Adventure</td>\n",
       "      <td>PG</td>\n",
       "      <td>246082029</td>\n",
       "      <td>246082029</td>\n",
       "    </tr>\n",
       "    <tr>\n",
       "      <th>578</th>\n",
       "      <td>Rogue One: A Star Wars Story</td>\n",
       "      <td>2016-12-16</td>\n",
       "      <td>Adventure</td>\n",
       "      <td>PG-13</td>\n",
       "      <td>529483936</td>\n",
       "      <td>529483936</td>\n",
       "    </tr>\n",
       "  </tbody>\n",
       "</table>\n",
       "<p>147 rows × 6 columns</p>\n",
       "</div>"
      ],
      "text/plain": [
       "                     titulo_do_filme data_de_lancamento     genero  \\\n",
       "0    Snow White and the Seven Dwarfs         1937-12-21    Musical   \n",
       "1                          Pinocchio         1940-02-09  Adventure   \n",
       "2                           Fantasia         1940-11-13    Musical   \n",
       "3                  Song of the South         1946-11-12  Adventure   \n",
       "4                         Cinderella         1950-02-15      Drama   \n",
       "..                               ...                ...        ...   \n",
       "569       Captain America: Civil War         2016-05-06     Action   \n",
       "571                     Finding Dory         2016-06-17  Adventure   \n",
       "576                   Doctor Strange         2016-11-04  Adventure   \n",
       "577                            Moana         2016-11-23  Adventure   \n",
       "578     Rogue One: A Star Wars Story         2016-12-16  Adventure   \n",
       "\n",
       "    classificacao      lucro  lucro_ajustado_inflacao  \n",
       "0               G  184925485               5228953251  \n",
       "1               G   84300000               2188229052  \n",
       "2               G   83320000               2187090808  \n",
       "3               G   65000000               1078510579  \n",
       "4               G   85000000                920608730  \n",
       "..            ...        ...                      ...  \n",
       "569         PG-13  408084349                408084349  \n",
       "571            PG  486295561                486295561  \n",
       "576         PG-13  232532923                232532923  \n",
       "577            PG  246082029                246082029  \n",
       "578         PG-13  529483936                529483936  \n",
       "\n",
       "[147 rows x 6 columns]"
      ]
     },
     "execution_count": 149,
     "metadata": {},
     "output_type": "execute_result"
    }
   ],
   "source": [
    "media = df['lucro_ajustado_inflacao'].mean()\n",
    "df[df['lucro_ajustado_inflacao'] > media]\n"
   ]
  },
  {
   "cell_type": "markdown",
   "id": "a5427903",
   "metadata": {},
   "source": [
    "filmes com um lucro maior que 500 milhões = 15"
   ]
  },
  {
   "cell_type": "code",
   "execution_count": 150,
   "id": "54f858b3",
   "metadata": {},
   "outputs": [
    {
     "data": {
      "application/vnd.microsoft.datawrangler.viewer.v0+json": {
       "columns": [
        {
         "name": "index",
         "rawType": "int64",
         "type": "integer"
        },
        {
         "name": "titulo_do_filme",
         "rawType": "object",
         "type": "string"
        },
        {
         "name": "data_de_lancamento",
         "rawType": "datetime64[ns]",
         "type": "datetime"
        },
        {
         "name": "genero",
         "rawType": "object",
         "type": "string"
        },
        {
         "name": "classificacao",
         "rawType": "object",
         "type": "string"
        },
        {
         "name": "lucro",
         "rawType": "int64",
         "type": "integer"
        },
        {
         "name": "lucro_ajustado_inflacao",
         "rawType": "int64",
         "type": "integer"
        }
       ],
       "conversionMethod": "pd.DataFrame",
       "ref": "ac32af17-281e-4131-9e1d-ea414a6bdfd5",
       "rows": [
        [
         "0",
         "Snow White and the Seven Dwarfs",
         "1937-12-21 00:00:00",
         "Musical",
         "G",
         "184925485",
         "5228953251"
        ],
        [
         "1",
         "Pinocchio",
         "1940-02-09 00:00:00",
         "Adventure",
         "G",
         "84300000",
         "2188229052"
        ],
        [
         "2",
         "Fantasia",
         "1940-11-13 00:00:00",
         "Musical",
         "G",
         "83320000",
         "2187090808"
        ],
        [
         "3",
         "Song of the South",
         "1946-11-12 00:00:00",
         "Adventure",
         "G",
         "65000000",
         "1078510579"
        ],
        [
         "4",
         "Cinderella",
         "1950-02-15 00:00:00",
         "Drama",
         "G",
         "85000000",
         "920608730"
        ],
        [
         "5",
         "20,000 Leagues Under the Sea",
         "1954-12-23 00:00:00",
         "Adventure",
         "Not Rated",
         "28200000",
         "528279994"
        ],
        [
         "6",
         "Lady and the Tramp",
         "1955-06-22 00:00:00",
         "Drama",
         "G",
         "93600000",
         "1236035515"
        ],
        [
         "8",
         "101 Dalmatians",
         "1961-01-25 00:00:00",
         "Comedy",
         "G",
         "153000000",
         "1362870985"
        ],
        [
         "13",
         "The Jungle Book",
         "1967-10-18 00:00:00",
         "Musical",
         "Not Rated",
         "141843000",
         "789612346"
        ],
        [
         "179",
         "The Lion King",
         "1994-06-15 00:00:00",
         "Adventure",
         "G",
         "422780140",
         "761640898"
        ],
        [
         "384",
         "Finding Nemo",
         "2003-05-30 00:00:00",
         "Adventure",
         "G",
         "380529370",
         "518148559"
        ],
        [
         "441",
         "Pirates of the Caribbean: Dead Man’…",
         "2006-07-07 00:00:00",
         "Adventure",
         "PG-13",
         "423315812",
         "544817142"
        ],
        [
         "524",
         "The Avengers",
         "2012-05-04 00:00:00",
         "Action",
         "PG-13",
         "623279547",
         "660081224"
        ],
        [
         "564",
         "Star Wars Ep. VII: The Force Awakens",
         "2015-12-18 00:00:00",
         "Adventure",
         "PG-13",
         "936662225",
         "936662225"
        ],
        [
         "578",
         "Rogue One: A Star Wars Story",
         "2016-12-16 00:00:00",
         "Adventure",
         "PG-13",
         "529483936",
         "529483936"
        ]
       ],
       "shape": {
        "columns": 6,
        "rows": 15
       }
      },
      "text/html": [
       "<div>\n",
       "<style scoped>\n",
       "    .dataframe tbody tr th:only-of-type {\n",
       "        vertical-align: middle;\n",
       "    }\n",
       "\n",
       "    .dataframe tbody tr th {\n",
       "        vertical-align: top;\n",
       "    }\n",
       "\n",
       "    .dataframe thead th {\n",
       "        text-align: right;\n",
       "    }\n",
       "</style>\n",
       "<table border=\"1\" class=\"dataframe\">\n",
       "  <thead>\n",
       "    <tr style=\"text-align: right;\">\n",
       "      <th></th>\n",
       "      <th>titulo_do_filme</th>\n",
       "      <th>data_de_lancamento</th>\n",
       "      <th>genero</th>\n",
       "      <th>classificacao</th>\n",
       "      <th>lucro</th>\n",
       "      <th>lucro_ajustado_inflacao</th>\n",
       "    </tr>\n",
       "  </thead>\n",
       "  <tbody>\n",
       "    <tr>\n",
       "      <th>0</th>\n",
       "      <td>Snow White and the Seven Dwarfs</td>\n",
       "      <td>1937-12-21</td>\n",
       "      <td>Musical</td>\n",
       "      <td>G</td>\n",
       "      <td>184925485</td>\n",
       "      <td>5228953251</td>\n",
       "    </tr>\n",
       "    <tr>\n",
       "      <th>1</th>\n",
       "      <td>Pinocchio</td>\n",
       "      <td>1940-02-09</td>\n",
       "      <td>Adventure</td>\n",
       "      <td>G</td>\n",
       "      <td>84300000</td>\n",
       "      <td>2188229052</td>\n",
       "    </tr>\n",
       "    <tr>\n",
       "      <th>2</th>\n",
       "      <td>Fantasia</td>\n",
       "      <td>1940-11-13</td>\n",
       "      <td>Musical</td>\n",
       "      <td>G</td>\n",
       "      <td>83320000</td>\n",
       "      <td>2187090808</td>\n",
       "    </tr>\n",
       "    <tr>\n",
       "      <th>3</th>\n",
       "      <td>Song of the South</td>\n",
       "      <td>1946-11-12</td>\n",
       "      <td>Adventure</td>\n",
       "      <td>G</td>\n",
       "      <td>65000000</td>\n",
       "      <td>1078510579</td>\n",
       "    </tr>\n",
       "    <tr>\n",
       "      <th>4</th>\n",
       "      <td>Cinderella</td>\n",
       "      <td>1950-02-15</td>\n",
       "      <td>Drama</td>\n",
       "      <td>G</td>\n",
       "      <td>85000000</td>\n",
       "      <td>920608730</td>\n",
       "    </tr>\n",
       "    <tr>\n",
       "      <th>5</th>\n",
       "      <td>20,000 Leagues Under the Sea</td>\n",
       "      <td>1954-12-23</td>\n",
       "      <td>Adventure</td>\n",
       "      <td>Not Rated</td>\n",
       "      <td>28200000</td>\n",
       "      <td>528279994</td>\n",
       "    </tr>\n",
       "    <tr>\n",
       "      <th>6</th>\n",
       "      <td>Lady and the Tramp</td>\n",
       "      <td>1955-06-22</td>\n",
       "      <td>Drama</td>\n",
       "      <td>G</td>\n",
       "      <td>93600000</td>\n",
       "      <td>1236035515</td>\n",
       "    </tr>\n",
       "    <tr>\n",
       "      <th>8</th>\n",
       "      <td>101 Dalmatians</td>\n",
       "      <td>1961-01-25</td>\n",
       "      <td>Comedy</td>\n",
       "      <td>G</td>\n",
       "      <td>153000000</td>\n",
       "      <td>1362870985</td>\n",
       "    </tr>\n",
       "    <tr>\n",
       "      <th>13</th>\n",
       "      <td>The Jungle Book</td>\n",
       "      <td>1967-10-18</td>\n",
       "      <td>Musical</td>\n",
       "      <td>Not Rated</td>\n",
       "      <td>141843000</td>\n",
       "      <td>789612346</td>\n",
       "    </tr>\n",
       "    <tr>\n",
       "      <th>179</th>\n",
       "      <td>The Lion King</td>\n",
       "      <td>1994-06-15</td>\n",
       "      <td>Adventure</td>\n",
       "      <td>G</td>\n",
       "      <td>422780140</td>\n",
       "      <td>761640898</td>\n",
       "    </tr>\n",
       "    <tr>\n",
       "      <th>384</th>\n",
       "      <td>Finding Nemo</td>\n",
       "      <td>2003-05-30</td>\n",
       "      <td>Adventure</td>\n",
       "      <td>G</td>\n",
       "      <td>380529370</td>\n",
       "      <td>518148559</td>\n",
       "    </tr>\n",
       "    <tr>\n",
       "      <th>441</th>\n",
       "      <td>Pirates of the Caribbean: Dead Man’…</td>\n",
       "      <td>2006-07-07</td>\n",
       "      <td>Adventure</td>\n",
       "      <td>PG-13</td>\n",
       "      <td>423315812</td>\n",
       "      <td>544817142</td>\n",
       "    </tr>\n",
       "    <tr>\n",
       "      <th>524</th>\n",
       "      <td>The Avengers</td>\n",
       "      <td>2012-05-04</td>\n",
       "      <td>Action</td>\n",
       "      <td>PG-13</td>\n",
       "      <td>623279547</td>\n",
       "      <td>660081224</td>\n",
       "    </tr>\n",
       "    <tr>\n",
       "      <th>564</th>\n",
       "      <td>Star Wars Ep. VII: The Force Awakens</td>\n",
       "      <td>2015-12-18</td>\n",
       "      <td>Adventure</td>\n",
       "      <td>PG-13</td>\n",
       "      <td>936662225</td>\n",
       "      <td>936662225</td>\n",
       "    </tr>\n",
       "    <tr>\n",
       "      <th>578</th>\n",
       "      <td>Rogue One: A Star Wars Story</td>\n",
       "      <td>2016-12-16</td>\n",
       "      <td>Adventure</td>\n",
       "      <td>PG-13</td>\n",
       "      <td>529483936</td>\n",
       "      <td>529483936</td>\n",
       "    </tr>\n",
       "  </tbody>\n",
       "</table>\n",
       "</div>"
      ],
      "text/plain": [
       "                          titulo_do_filme data_de_lancamento     genero  \\\n",
       "0         Snow White and the Seven Dwarfs         1937-12-21    Musical   \n",
       "1                               Pinocchio         1940-02-09  Adventure   \n",
       "2                                Fantasia         1940-11-13    Musical   \n",
       "3                       Song of the South         1946-11-12  Adventure   \n",
       "4                              Cinderella         1950-02-15      Drama   \n",
       "5            20,000 Leagues Under the Sea         1954-12-23  Adventure   \n",
       "6                      Lady and the Tramp         1955-06-22      Drama   \n",
       "8                          101 Dalmatians         1961-01-25     Comedy   \n",
       "13                        The Jungle Book         1967-10-18    Musical   \n",
       "179                         The Lion King         1994-06-15  Adventure   \n",
       "384                          Finding Nemo         2003-05-30  Adventure   \n",
       "441  Pirates of the Caribbean: Dead Man’…         2006-07-07  Adventure   \n",
       "524                          The Avengers         2012-05-04     Action   \n",
       "564  Star Wars Ep. VII: The Force Awakens         2015-12-18  Adventure   \n",
       "578          Rogue One: A Star Wars Story         2016-12-16  Adventure   \n",
       "\n",
       "    classificacao      lucro  lucro_ajustado_inflacao  \n",
       "0               G  184925485               5228953251  \n",
       "1               G   84300000               2188229052  \n",
       "2               G   83320000               2187090808  \n",
       "3               G   65000000               1078510579  \n",
       "4               G   85000000                920608730  \n",
       "5       Not Rated   28200000                528279994  \n",
       "6               G   93600000               1236035515  \n",
       "8               G  153000000               1362870985  \n",
       "13      Not Rated  141843000                789612346  \n",
       "179             G  422780140                761640898  \n",
       "384             G  380529370                518148559  \n",
       "441         PG-13  423315812                544817142  \n",
       "524         PG-13  623279547                660081224  \n",
       "564         PG-13  936662225                936662225  \n",
       "578         PG-13  529483936                529483936  "
      ]
     },
     "execution_count": 150,
     "metadata": {},
     "output_type": "execute_result"
    }
   ],
   "source": [
    "df[df['lucro_ajustado_inflacao'] > 500000000]"
   ]
  },
  {
   "cell_type": "markdown",
   "id": "8918eb2d",
   "metadata": {},
   "source": [
    "filmes com um lucro maior que 1 bilhão = 6"
   ]
  },
  {
   "cell_type": "code",
   "execution_count": 151,
   "id": "41498126",
   "metadata": {},
   "outputs": [
    {
     "data": {
      "application/vnd.microsoft.datawrangler.viewer.v0+json": {
       "columns": [
        {
         "name": "index",
         "rawType": "int64",
         "type": "integer"
        },
        {
         "name": "titulo_do_filme",
         "rawType": "object",
         "type": "string"
        },
        {
         "name": "data_de_lancamento",
         "rawType": "datetime64[ns]",
         "type": "datetime"
        },
        {
         "name": "genero",
         "rawType": "object",
         "type": "string"
        },
        {
         "name": "classificacao",
         "rawType": "object",
         "type": "string"
        },
        {
         "name": "lucro",
         "rawType": "int64",
         "type": "integer"
        },
        {
         "name": "lucro_ajustado_inflacao",
         "rawType": "int64",
         "type": "integer"
        }
       ],
       "conversionMethod": "pd.DataFrame",
       "ref": "b0c73a6f-6f9c-43f4-97d3-a8dc4f46e7a0",
       "rows": [
        [
         "0",
         "Snow White and the Seven Dwarfs",
         "1937-12-21 00:00:00",
         "Musical",
         "G",
         "184925485",
         "5228953251"
        ],
        [
         "1",
         "Pinocchio",
         "1940-02-09 00:00:00",
         "Adventure",
         "G",
         "84300000",
         "2188229052"
        ],
        [
         "2",
         "Fantasia",
         "1940-11-13 00:00:00",
         "Musical",
         "G",
         "83320000",
         "2187090808"
        ],
        [
         "3",
         "Song of the South",
         "1946-11-12 00:00:00",
         "Adventure",
         "G",
         "65000000",
         "1078510579"
        ],
        [
         "6",
         "Lady and the Tramp",
         "1955-06-22 00:00:00",
         "Drama",
         "G",
         "93600000",
         "1236035515"
        ],
        [
         "8",
         "101 Dalmatians",
         "1961-01-25 00:00:00",
         "Comedy",
         "G",
         "153000000",
         "1362870985"
        ]
       ],
       "shape": {
        "columns": 6,
        "rows": 6
       }
      },
      "text/html": [
       "<div>\n",
       "<style scoped>\n",
       "    .dataframe tbody tr th:only-of-type {\n",
       "        vertical-align: middle;\n",
       "    }\n",
       "\n",
       "    .dataframe tbody tr th {\n",
       "        vertical-align: top;\n",
       "    }\n",
       "\n",
       "    .dataframe thead th {\n",
       "        text-align: right;\n",
       "    }\n",
       "</style>\n",
       "<table border=\"1\" class=\"dataframe\">\n",
       "  <thead>\n",
       "    <tr style=\"text-align: right;\">\n",
       "      <th></th>\n",
       "      <th>titulo_do_filme</th>\n",
       "      <th>data_de_lancamento</th>\n",
       "      <th>genero</th>\n",
       "      <th>classificacao</th>\n",
       "      <th>lucro</th>\n",
       "      <th>lucro_ajustado_inflacao</th>\n",
       "    </tr>\n",
       "  </thead>\n",
       "  <tbody>\n",
       "    <tr>\n",
       "      <th>0</th>\n",
       "      <td>Snow White and the Seven Dwarfs</td>\n",
       "      <td>1937-12-21</td>\n",
       "      <td>Musical</td>\n",
       "      <td>G</td>\n",
       "      <td>184925485</td>\n",
       "      <td>5228953251</td>\n",
       "    </tr>\n",
       "    <tr>\n",
       "      <th>1</th>\n",
       "      <td>Pinocchio</td>\n",
       "      <td>1940-02-09</td>\n",
       "      <td>Adventure</td>\n",
       "      <td>G</td>\n",
       "      <td>84300000</td>\n",
       "      <td>2188229052</td>\n",
       "    </tr>\n",
       "    <tr>\n",
       "      <th>2</th>\n",
       "      <td>Fantasia</td>\n",
       "      <td>1940-11-13</td>\n",
       "      <td>Musical</td>\n",
       "      <td>G</td>\n",
       "      <td>83320000</td>\n",
       "      <td>2187090808</td>\n",
       "    </tr>\n",
       "    <tr>\n",
       "      <th>3</th>\n",
       "      <td>Song of the South</td>\n",
       "      <td>1946-11-12</td>\n",
       "      <td>Adventure</td>\n",
       "      <td>G</td>\n",
       "      <td>65000000</td>\n",
       "      <td>1078510579</td>\n",
       "    </tr>\n",
       "    <tr>\n",
       "      <th>6</th>\n",
       "      <td>Lady and the Tramp</td>\n",
       "      <td>1955-06-22</td>\n",
       "      <td>Drama</td>\n",
       "      <td>G</td>\n",
       "      <td>93600000</td>\n",
       "      <td>1236035515</td>\n",
       "    </tr>\n",
       "    <tr>\n",
       "      <th>8</th>\n",
       "      <td>101 Dalmatians</td>\n",
       "      <td>1961-01-25</td>\n",
       "      <td>Comedy</td>\n",
       "      <td>G</td>\n",
       "      <td>153000000</td>\n",
       "      <td>1362870985</td>\n",
       "    </tr>\n",
       "  </tbody>\n",
       "</table>\n",
       "</div>"
      ],
      "text/plain": [
       "                   titulo_do_filme data_de_lancamento     genero  \\\n",
       "0  Snow White and the Seven Dwarfs         1937-12-21    Musical   \n",
       "1                        Pinocchio         1940-02-09  Adventure   \n",
       "2                         Fantasia         1940-11-13    Musical   \n",
       "3                Song of the South         1946-11-12  Adventure   \n",
       "6               Lady and the Tramp         1955-06-22      Drama   \n",
       "8                   101 Dalmatians         1961-01-25     Comedy   \n",
       "\n",
       "  classificacao      lucro  lucro_ajustado_inflacao  \n",
       "0             G  184925485               5228953251  \n",
       "1             G   84300000               2188229052  \n",
       "2             G   83320000               2187090808  \n",
       "3             G   65000000               1078510579  \n",
       "6             G   93600000               1236035515  \n",
       "8             G  153000000               1362870985  "
      ]
     },
     "execution_count": 151,
     "metadata": {},
     "output_type": "execute_result"
    }
   ],
   "source": [
    "df[df['lucro_ajustado_inflacao'] > 1000000000]"
   ]
  },
  {
   "cell_type": "markdown",
   "id": "3355e94d",
   "metadata": {},
   "source": [
    "filmes com um lucro maior que 5 bilhões = 1"
   ]
  },
  {
   "cell_type": "code",
   "execution_count": 152,
   "id": "58c905df",
   "metadata": {},
   "outputs": [
    {
     "data": {
      "application/vnd.microsoft.datawrangler.viewer.v0+json": {
       "columns": [
        {
         "name": "index",
         "rawType": "int64",
         "type": "integer"
        },
        {
         "name": "titulo_do_filme",
         "rawType": "object",
         "type": "string"
        },
        {
         "name": "data_de_lancamento",
         "rawType": "datetime64[ns]",
         "type": "datetime"
        },
        {
         "name": "genero",
         "rawType": "object",
         "type": "string"
        },
        {
         "name": "classificacao",
         "rawType": "object",
         "type": "string"
        },
        {
         "name": "lucro",
         "rawType": "int64",
         "type": "integer"
        },
        {
         "name": "lucro_ajustado_inflacao",
         "rawType": "int64",
         "type": "integer"
        }
       ],
       "conversionMethod": "pd.DataFrame",
       "ref": "306254fb-5673-42ac-bb1d-ab7caeb3be64",
       "rows": [
        [
         "0",
         "Snow White and the Seven Dwarfs",
         "1937-12-21 00:00:00",
         "Musical",
         "G",
         "184925485",
         "5228953251"
        ]
       ],
       "shape": {
        "columns": 6,
        "rows": 1
       }
      },
      "text/html": [
       "<div>\n",
       "<style scoped>\n",
       "    .dataframe tbody tr th:only-of-type {\n",
       "        vertical-align: middle;\n",
       "    }\n",
       "\n",
       "    .dataframe tbody tr th {\n",
       "        vertical-align: top;\n",
       "    }\n",
       "\n",
       "    .dataframe thead th {\n",
       "        text-align: right;\n",
       "    }\n",
       "</style>\n",
       "<table border=\"1\" class=\"dataframe\">\n",
       "  <thead>\n",
       "    <tr style=\"text-align: right;\">\n",
       "      <th></th>\n",
       "      <th>titulo_do_filme</th>\n",
       "      <th>data_de_lancamento</th>\n",
       "      <th>genero</th>\n",
       "      <th>classificacao</th>\n",
       "      <th>lucro</th>\n",
       "      <th>lucro_ajustado_inflacao</th>\n",
       "    </tr>\n",
       "  </thead>\n",
       "  <tbody>\n",
       "    <tr>\n",
       "      <th>0</th>\n",
       "      <td>Snow White and the Seven Dwarfs</td>\n",
       "      <td>1937-12-21</td>\n",
       "      <td>Musical</td>\n",
       "      <td>G</td>\n",
       "      <td>184925485</td>\n",
       "      <td>5228953251</td>\n",
       "    </tr>\n",
       "  </tbody>\n",
       "</table>\n",
       "</div>"
      ],
      "text/plain": [
       "                   titulo_do_filme data_de_lancamento   genero classificacao  \\\n",
       "0  Snow White and the Seven Dwarfs         1937-12-21  Musical             G   \n",
       "\n",
       "       lucro  lucro_ajustado_inflacao  \n",
       "0  184925485               5228953251  "
      ]
     },
     "execution_count": 152,
     "metadata": {},
     "output_type": "execute_result"
    }
   ],
   "source": [
    "df[df['lucro_ajustado_inflacao'] > 5000000000]"
   ]
  },
  {
   "cell_type": "markdown",
   "id": "08f8a1f2",
   "metadata": {},
   "source": [
    "Mesmo sem ter um gênero de \"Animação\", é possível saber que esses maiores filmes são animações infantis clássicas. Então possivelmente a maior classificação será entre o público geral"
   ]
  },
  {
   "cell_type": "code",
   "execution_count": 153,
   "id": "c751ecc9",
   "metadata": {},
   "outputs": [
    {
     "name": "stdout",
     "output_type": "stream",
     "text": [
      "G (Geral):  86\n",
      "PG (Orientação Parental):  187\n",
      "PG-13 (Idade Mínima 13 Anos):  145\n",
      "R (Restrito):  102\n"
     ]
    }
   ],
   "source": [
    "print(\"G (Geral): \",(df['classificacao'] == 'G').sum())\n",
    "print(\"PG (Orientação Parental): \", (df['classificacao'] == 'PG').sum())\n",
    "print(\"PG-13 (Idade Mínima 13 Anos): \", (df['classificacao'] == 'PG-13').sum())\n",
    "print(\"R (Restrito): \", (df['classificacao'] == 'R').sum())"
   ]
  },
  {
   "cell_type": "markdown",
   "id": "5d0ff13e",
   "metadata": {},
   "source": [
    "Os maiores filmes são do público que recebeu menos variedade de filmes."
   ]
  },
  {
   "cell_type": "markdown",
   "id": "12d0f101",
   "metadata": {},
   "source": [
    "---\n",
    "\n",
    "Começando a plotar"
   ]
  },
  {
   "cell_type": "code",
   "execution_count": 160,
   "id": "42e15f98",
   "metadata": {},
   "outputs": [],
   "source": [
    "import matplotlib.pyplot as plt\n",
    "import seaborn as sns\n",
    "import numpy as np"
   ]
  },
  {
   "cell_type": "markdown",
   "id": "e0e11847",
   "metadata": {},
   "source": [
    "Quantidade de filmes por ano"
   ]
  },
  {
   "cell_type": "code",
   "execution_count": 167,
   "id": "fd30843f",
   "metadata": {},
   "outputs": [
    {
     "data": {
      "image/png": "[encoded data removed]",
      "text/plain": [
       "<Figure size 1000x600 with 1 Axes>"
      ]
     },
     "metadata": {},
     "output_type": "display_data"
    }
   ],
   "source": [
    "df['ano'] = df['data_de_lancamento'].dt.year\n",
    "contagem_por_ano = df['ano'].value_counts().sort_index()\n",
    "\n",
    "n = len(contagem_por_ano)\n",
    "cores = plt.cm.Spectral(np.linspace(0, 1, n))\n",
    "\n",
    "plt.figure(figsize=(10, 6))\n",
    "contagem_por_ano.plot(kind='bar', color=cores)\n",
    "\n",
    "plt.title('Quantidade de Filmes por Ano', fontsize=14)\n",
    "plt.xlabel('Ano', fontsize=12)\n",
    "plt.ylabel('Quantidade de Filmes', fontsize=12)\n",
    "\n",
    "plt.xticks(rotation=45)\n",
    "plt.tight_layout()\n",
    "plt.show()"
   ]
  },
  {
   "cell_type": "markdown",
   "id": "0b364c3b",
   "metadata": {},
   "source": [
    "Top 10 anos com maior quantidade de filme"
   ]
  },
  {
   "cell_type": "code",
   "execution_count": 173,
   "id": "d204721b",
   "metadata": {},
   "outputs": [
    {
     "data": {
      "image/png": "[encoded data removed]",
      "text/plain": [
       "<Figure size 1200x600 with 1 Axes>"
      ]
     },
     "metadata": {},
     "output_type": "display_data"
    }
   ],
   "source": [
    "top10_anos = contagem_por_ano.sort_values(ascending=False).head(10)\n",
    "top10_anos = top10_anos.sort_values(ascending=False)\n",
    "\n",
    "cores = plt.cm.Spectral(np.linspace(0, 1, len(top10_anos)))\n",
    "\n",
    "plt.figure(figsize=(12, 6))\n",
    "top10_anos.plot(kind='bar', color=cores)\n",
    "\n",
    "plt.title('Top 10 Anos com Maior Quantidade de Filmes', fontsize=16)\n",
    "plt.xlabel('Ano', fontsize=12)\n",
    "plt.ylabel('Quantidade de Filmes', fontsize=12)\n",
    "plt.xticks(rotation=45)\n",
    "plt.tight_layout()\n",
    "plt.show()"
   ]
  },
  {
   "cell_type": "markdown",
   "id": "de831aee",
   "metadata": {},
   "source": [
    "A década de 90 foi muito boa para a disney em questão de lucros"
   ]
  }
 ],
 "metadata": {
  "kernelspec": {
   "display_name": "venv",
   "language": "python",
   "name": "python3"
  },
  "language_info": {
   "codemirror_mode": {
    "name": "ipython",
    "version": 3
   },
   "file_extension": ".py",
   "mimetype": "text/x-python",
   "name": "python",
   "nbconvert_exporter": "python",
   "pygments_lexer": "ipython3",
   "version": "3.11.9"
  }
 },
 "nbformat": 4,
 "nbformat_minor": 5
}
