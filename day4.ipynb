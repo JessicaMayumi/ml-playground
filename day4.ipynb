{
 "cells": [
  {
   "cell_type": "markdown",
   "id": "09450c90",
   "metadata": {},
   "source": [
    "## 📅 Dia 4 – Regularização e Avaliação\n",
    "\n",
    "### 🎯 Objetivo:\n",
    "Evitar overfitting e entender como avaliar modelos corretamente.\n",
    "\n",
    "### 📚 Teoria:\n",
    "- Overfitting vs. Underfitting\n",
    "- Técnicas: Dropout, EarlyStopping, validação\n",
    "- Métricas: Precision, Recall, F1-score, ROC AUC\n",
    "\n",
    "### 🛠 Prática:\n",
    "- Adicionar Dropout ao modelo de texto e ao de imagem\n",
    "- Usar EarlyStopping com val_loss\n",
    "- Gerar e interpretar:\n",
    "- Matriz de confusão\n",
    "- Classificação com classification_report\n",
    "- Curva ROC"
   ]
  },
  {
   "cell_type": "markdown",
   "id": "088243b3",
   "metadata": {},
   "source": []
  }
 ],
 "metadata": {
  "language_info": {
   "name": "python"
  }
 },
 "nbformat": 4,
 "nbformat_minor": 5
}
