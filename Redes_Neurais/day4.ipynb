{
 "cells": [
  {
   "cell_type": "markdown",
   "id": "09450c90",
   "metadata": {},
   "source": [
    "## 📅 Dia 4 – Regularização e Avaliação\n",
    "\n",
    "### 🎯 Objetivo:\n",
    "Evitar overfitting e entender como avaliar modelos corretamente.\n",
    "\n",
    "### 📚 Teoria:\n",
    "- Overfitting vs. Underfitting\n",
    "- Técnicas: Dropout, EarlyStopping, validação\n",
    "- Métricas: Precision, Recall, F1-score, ROC AUC\n",
    "\n",
    "### 🛠 Prática:\n",
    "- Adicionar Dropout ao modelo de texto e ao de imagem\n",
    "- Usar EarlyStopping com val_loss\n",
    "- Gerar e interpretar:\n",
    "- Matriz de confusão\n",
    "- Classificação com classification_report\n",
    "- Curva ROC"
   ]
  },
  {
   "cell_type": "markdown",
   "id": "088243b3",
   "metadata": {},
   "source": [
    "---\n",
    "\n",
    "# **Overfitting**\n",
    "O modelo aprende demais os dados de treino, inclusive o ruído, perdendo a capacidade de generalizar para novos dados.\n",
    "``Alerta:`` Excelente desempenho no treino, ruim na validação/teste.\n",
    "\n",
    "Como previnir? Utilizar algumas técninas como Dropout, EarlyStopping e Validação.\n",
    "\n",
    "``Dropout:`` desativa aleatoriamente uma certa porcetagem dos neurônios durante o treino. "
   ]
  },
  {
   "cell_type": "code",
   "execution_count": 1,
   "id": "8405d960",
   "metadata": {},
   "outputs": [],
   "source": [
    "import torch.nn as nn\n",
    "\n",
    "model = nn.Sequential(\n",
    "    nn.Linear(128, 64),\n",
    "    nn.ReLU(),\n",
    "    nn.Dropout(0.5),  # 50% de dropout\n",
    "    nn.Linear(64, 1)\n",
    ")"
   ]
  },
  {
   "cell_type": "markdown",
   "id": "6928bf1e",
   "metadata": {},
   "source": [
    "``EarlyStopping:`` Interrompe o treino caso a métrica de validação parar de melhorar."
   ]
  },
  {
   "cell_type": "markdown",
   "id": "cbc29220",
   "metadata": {},
   "source": [
    "``Validação cruzada:`` pode ser K-fold ou hold-out, que consistem em dividir o conjunto de dados para garantir a avaliação em dados não vistos"
   ]
  },
  {
   "cell_type": "markdown",
   "id": "6a63da73",
   "metadata": {},
   "source": [
    "---\n",
    "\n",
    "# **Underfitting**\n",
    "O modelo não aprende o suficiente nem os padrões do treino.\n",
    "``Alerta:`` Desempenho ruim tanto no treino quanto na validação."
   ]
  },
  {
   "cell_type": "markdown",
   "id": "cd2c96ac",
   "metadata": {},
   "source": [
    "---\n",
    "\n",
    "# **Métricas**\n",
    "\n",
    "**Precisão:** quanto estava correto\n",
    "\n",
    "``Precisão =  Verdadeiros Positivos (TP) / TP + Falsos Positivos (FP)``\n",
    "​\n",
    "- **Exemplo:** Se o modelo disse que 10 amostras eram positivas, mas só 6 estavam certas\n",
    "\n",
    "    ``Precisão = 6 / 10 = 0.6 (ou 60%)``"
   ]
  },
  {
   "cell_type": "markdown",
   "id": "555a4a91",
   "metadata": {},
   "source": [
    "**Recall:** quantos positivos reais o modelo conseguiu encontrar\n",
    "\n",
    "``Recall = TP / TP + Falsos Negativos (FN)``\n",
    "\n",
    "- **Exemplo:** Se havia 8 casos positivos, mas o modelo só identificou 6\n",
    "\n",
    "    ``Recall = 6 / 8 = 0.75 (ou 75%)``\n",
    "\n",
    "​**F1-Score:** um equilíbrio entre a precisao e o recall\n",
    "\n",
    "``F1 = 2 [(Precision ⋅ Recall) / (Precision + Recall)]``\n",
    "\n",
    "OBS: Um F1-score alto só acontece quando ambas precision e recall são altas. Bom para utilizar quando há um desequilíbrio entre classes.\n",
    "\n",
    "**ROC AUC (Receiver Operating Characteristic – Area Under Curve):** \n",
    "\n",
    "ROC → mostra como o modelo se comporta ao mudar o limiar de decisão (threshold)\n",
    "\n",
    "Eixos: \n",
    "- **Eixo Y = Recall (ou Sensibilidade)**\n",
    "→ Proporção de positivos corretamente detectados.\n",
    "\n",
    "- **Eixo X = Falsos Positivos (1 - Especificidade)**\n",
    "→ Proporção de negativos que foram incorretamente classificados como positivos.\n"
   ]
  },
  {
   "cell_type": "markdown",
   "id": "ebeb8856",
   "metadata": {},
   "source": []
  }
 ],
 "metadata": {
  "kernelspec": {
   "display_name": "Python 3",
   "language": "python",
   "name": "python3"
  },
  "language_info": {
   "codemirror_mode": {
    "name": "ipython",
    "version": 3
   },
   "file_extension": ".py",
   "mimetype": "text/x-python",
   "name": "python",
   "nbconvert_exporter": "python",
   "pygments_lexer": "ipython3",
   "version": "3.11.9"
  }
 },
 "nbformat": 4,
 "nbformat_minor": 5
}
